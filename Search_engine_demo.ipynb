{
 "cells": [
  {
   "cell_type": "code",
   "execution_count": 1,
   "metadata": {},
   "outputs": [
    {
     "name": "stderr",
     "output_type": "stream",
     "text": [
      "C:\\ProgramData\\Anaconda3\\lib\\site-packages\\gensim\\utils.py:1212: UserWarning: detected Windows; aliasing chunkize to chunkize_serial\n",
      "  warnings.warn(\"detected Windows; aliasing chunkize to chunkize_serial\")\n"
     ]
    }
   ],
   "source": [
    "import main"
   ]
  },
  {
   "cell_type": "code",
   "execution_count": 2,
   "metadata": {},
   "outputs": [],
   "source": [
    "search_engine = main.SearchEngine(r'C:\\Users\\sergiojesus\\Desktop\\Document_Clustering\\CV', lang='pt')"
   ]
  },
  {
   "cell_type": "code",
   "execution_count": 3,
   "metadata": {},
   "outputs": [
    {
     "name": "stdout",
     "output_type": "stream",
     "text": [
      "Results:\n"
     ]
    },
    {
     "data": {
      "text/html": [
       "<style  type=\"text/css\" >\n",
       "</style>  \n",
       "<table id=\"T_e9d0fac6_c649_11e8_bd52_c8d3ff3ccad2\" > \n",
       "<thead>    <tr> \n",
       "        <th class=\"blank level0\" ></th> \n",
       "        <th class=\"col_heading level0 col0\" >File</th> \n",
       "        <th class=\"col_heading level0 col1\" >Link</th> \n",
       "        <th class=\"col_heading level0 col2\" >Score</th> \n",
       "        <th class=\"col_heading level0 col3\" >Summary</th> \n",
       "        <th class=\"col_heading level0 col4\" >Results</th> \n",
       "    </tr></thead> \n",
       "<tbody>    <tr> \n",
       "        <th id=\"T_e9d0fac6_c649_11e8_bd52_c8d3ff3ccad2level0_row0\" class=\"row_heading level0 row0\" >0</th> \n",
       "        <td id=\"T_e9d0fac6_c649_11e8_bd52_c8d3ff3ccad2row0_col0\" class=\"data row0 col0\" >André Joaquim Barbosa de Oliveira_05_2017</td> \n",
       "        <td id=\"T_e9d0fac6_c649_11e8_bd52_c8d3ff3ccad2row0_col1\" class=\"data row0 col1\" ><a target=\"_blank\" href=\"CV\\maio 2017\\André Joaquim Barbosa de Oliveira_05_2017.pdf\">CV\\maio 2017\\André Joaquim Barbosa de Oliveira_05_2017.pdf</a></td> \n",
       "        <td id=\"T_e9d0fac6_c649_11e8_bd52_c8d3ff3ccad2row0_col2\" class=\"data row0 col2\" >1</td> \n",
       "        <td id=\"T_e9d0fac6_c649_11e8_bd52_c8d3ff3ccad2row0_col3\" class=\"data row0 col3\" >Submissão de patente  portuguesa nº 103807 intitulada  “Sistema  de recolha de bolas de golfe totalmente autónomo ou remotamente operado”.\n",
       "5 anos   Diretor de serviços Eletrotécnicos e Manutenção Eletromecânica\n",
       "De Março a Novembro de 2013 ( 1 ano )\n",
       "De Março 2008 até Julho de 2012 ( 4 anos )</td> \n",
       "        <td id=\"T_e9d0fac6_c649_11e8_bd52_c8d3ff3ccad2row0_col4\" class=\"data row0 col4\" >Desenvolvimento adaptado aos serviços de venda e validação de titulos de transporte para rede metropolitana de LISBOA com uso de sistemas georeferenciados, programação de validadores AEP com leitura de cartões CALYPSO   linguagem de programação C/C++.\n",
       "3 anos   Programador C/C++ linux\n",
       "Programador C/C++ na SDILAB   Investigação e desenvolvimento de software.</td> \n",
       "    </tr>    <tr> \n",
       "        <th id=\"T_e9d0fac6_c649_11e8_bd52_c8d3ff3ccad2level0_row1\" class=\"row_heading level0 row1\" >1</th> \n",
       "        <td id=\"T_e9d0fac6_c649_11e8_bd52_c8d3ff3ccad2row1_col0\" class=\"data row1 col0\" >Daniel José Silva Teixeira</td> \n",
       "        <td id=\"T_e9d0fac6_c649_11e8_bd52_c8d3ff3ccad2row1_col1\" class=\"data row1 col1\" ><a target=\"_blank\" href=\"CV\\11-Novembro 2015\\Daniel José Silva Teixeira.pdf\">CV\\11-Novembro 2015\\Daniel José Silva Teixeira.pdf</a></td> \n",
       "        <td id=\"T_e9d0fac6_c649_11e8_bd52_c8d3ff3ccad2row1_col2\" class=\"data row1 col2\" >0.957629</td> \n",
       "        <td id=\"T_e9d0fac6_c649_11e8_bd52_c8d3ff3ccad2row1_col3\" class=\"data row1 col3\" >Foi uma experiência pessoal enriquecedora.\n",
       "Competências de organização  Boa capacidade de organização do trabalho\n",
       "▪ Alguns conhecimentos de projeto de redes eletrónicas.\n",
       "▪ Competências de programação (MatLab, MySql, C#, C++)\n",
       "▪ Projeto de dispositivos médicos;\n",
       "Produção oral\n",
       "Foi uma boa experiência pessoal.\n",
       "Experiência de eramus em uma excelente faculdade na Turquia.</td> \n",
       "        <td id=\"T_e9d0fac6_c649_11e8_bd52_c8d3ff3ccad2row1_col4\" class=\"data row1 col4\" >Maio de 2015 a atualidade  Programar uma aplicação de Re Rating na Vodafone em C/C++\n",
       "▪ Competências de programação (MatLab, MySql, C#, C++)\n",
       "▪ Programação (C++, Fortran, Matlab);\n",
       "Desenvolvimento de Software em C/C++</td> \n",
       "    </tr>    <tr> \n",
       "        <th id=\"T_e9d0fac6_c649_11e8_bd52_c8d3ff3ccad2level0_row2\" class=\"row_heading level0 row2\" >2</th> \n",
       "        <td id=\"T_e9d0fac6_c649_11e8_bd52_c8d3ff3ccad2row2_col0\" class=\"data row2 col0\" >Rui Moreira</td> \n",
       "        <td id=\"T_e9d0fac6_c649_11e8_bd52_c8d3ff3ccad2row2_col1\" class=\"data row2 col1\" ><a target=\"_blank\" href=\"CV\\10-outubro 2016\\Rui Moreira.pdf\">CV\\10-outubro 2016\\Rui Moreira.pdf</a></td> \n",
       "        <td id=\"T_e9d0fac6_c649_11e8_bd52_c8d3ff3ccad2row2_col2\" class=\"data row2 col2\" >0.889691</td> \n",
       "        <td id=\"T_e9d0fac6_c649_11e8_bd52_c8d3ff3ccad2row2_col3\" class=\"data row2 col3\" >▪ Implementação de projeto técnico certificado de telecomunicações em edifícios de acordo com a regulamentação técnica em vigor da ANACOM e recomendações municipais\n",
       "Sector de atividade: Ensino / Formação técnico profissional nas áreas de profissional nas áreas de\n",
       "Responsável por angariação e orientação de formação em contexto de trabalho em empresas do ramo</td> \n",
       "        <td id=\"T_e9d0fac6_c649_11e8_bd52_c8d3ff3ccad2row2_col4\" class=\"data row2 col4\" >▪ Formação de programação em V. BASIC, C++, bases de dados mySQL e\n",
       "Tigerlogic Omnis, C++, C#, ASSEMBLY, HTML;\n",
       "▪ Programação de Computadores ( VBasic, C++, JAVA, SQL server, PHP,\n",
       "V. BASIC, C++, bases de dados mySQL e\n",
       "▪ Programação em diversas plataformas (Omnis, Java em diversas plataformas (Omnis, Java J2SE, C++, C#, .Net,</td> \n",
       "    </tr>    <tr> \n",
       "        <th id=\"T_e9d0fac6_c649_11e8_bd52_c8d3ff3ccad2level0_row3\" class=\"row_heading level0 row3\" >3</th> \n",
       "        <td id=\"T_e9d0fac6_c649_11e8_bd52_c8d3ff3ccad2row3_col0\" class=\"data row3 col0\" >Jorge Ferrão CV</td> \n",
       "        <td id=\"T_e9d0fac6_c649_11e8_bd52_c8d3ff3ccad2row3_col1\" class=\"data row3 col1\" ><a target=\"_blank\" href=\"CV\\geral_2018\\Jorge Ferrão CV.pdf\">CV\\geral_2018\\Jorge Ferrão CV.pdf</a></td> \n",
       "        <td id=\"T_e9d0fac6_c649_11e8_bd52_c8d3ff3ccad2row3_col2\" class=\"data row3 col2\" >0.716885</td> \n",
       "        <td id=\"T_e9d0fac6_c649_11e8_bd52_c8d3ff3ccad2row3_col3\" class=\"data row3 col3\" >Tenho conhecimentos de programação em C/C++, Java, C#, Python e Javascript, e experiencia  com  computação  gráfica,  visão  por  computador,  desenvolvimento  de aplicações multiplataforma, programação de microcontroladores, desenvolvimento de jogos,  desenvolvimento  de  sistemas  de  informação,  aprendizagem  automática  e desenvolvimento web</td> \n",
       "        <td id=\"T_e9d0fac6_c649_11e8_bd52_c8d3ff3ccad2row3_col4\" class=\"data row3 col4\" >Tenho conhecimentos de programação em C/C++, Java, C#, Python e Javascript, e experiencia  com  computação  gráfica,  visão  por  computador,  desenvolvimento  de aplicações multiplataforma, programação de microcontroladores, desenvolvimento de jogos,  desenvolvimento  de  sistemas  de  informação,  aprendizagem  automática  e desenvolvimento web\n",
       "Framework para criação de animação vetorial em Java.   Java, LibGDX, JNI, C++\n",
       "Software developer C++ / ROS para o robô autónomo WiiGo   Algoritmos localização e navegação autónoma   Ferramentas para visualização de dados\n",
       "Jogo de damas (2014)   Jogo de damas humano vs computador, com realidade aumentada.   Desenvolvimento de sistema de visão para deteção de tabuleiros de damas.   OpenCV, C++</td> \n",
       "    </tr>    <tr> \n",
       "        <th id=\"T_e9d0fac6_c649_11e8_bd52_c8d3ff3ccad2level0_row4\" class=\"row_heading level0 row4\" >4</th> \n",
       "        <td id=\"T_e9d0fac6_c649_11e8_bd52_c8d3ff3ccad2row4_col0\" class=\"data row4 col0\" >José Manuel Miranda Ferrão_12-2017</td> \n",
       "        <td id=\"T_e9d0fac6_c649_11e8_bd52_c8d3ff3ccad2row4_col1\" class=\"data row4 col1\" ><a target=\"_blank\" href=\"CV\\Dezembro 2017\\José Manuel Miranda Ferrão_12-2017.pdf\">CV\\Dezembro 2017\\José Manuel Miranda Ferrão_12-2017.pdf</a></td> \n",
       "        <td id=\"T_e9d0fac6_c649_11e8_bd52_c8d3ff3ccad2row4_col2\" class=\"data row4 col2\" >0.716885</td> \n",
       "        <td id=\"T_e9d0fac6_c649_11e8_bd52_c8d3ff3ccad2row4_col3\" class=\"data row4 col3\" >Tenho conhecimentos de programação em C/C++, Java, C#, Python e Javascript, e experiencia  com  computação  gráfica,  visão  por  computador,  desenvolvimento  de aplicações multiplataforma, programação de microcontroladores, desenvolvimento de jogos,  desenvolvimento  de  sistemas  de  informação,  aprendizagem  automática  e desenvolvimento web</td> \n",
       "        <td id=\"T_e9d0fac6_c649_11e8_bd52_c8d3ff3ccad2row4_col4\" class=\"data row4 col4\" >Tenho conhecimentos de programação em C/C++, Java, C#, Python e Javascript, e experiencia  com  computação  gráfica,  visão  por  computador,  desenvolvimento  de aplicações multiplataforma, programação de microcontroladores, desenvolvimento de jogos,  desenvolvimento  de  sistemas  de  informação,  aprendizagem  automática  e desenvolvimento web\n",
       "Framework para criação de animação vetorial em Java.   Java, LibGDX, JNI, C++\n",
       "Software developer C++ / ROS para o robô autónomo WiiGo   Algoritmos localização e navegação autónoma   Ferramentas para visualização de dados\n",
       "Jogo de damas (2014)   Jogo de damas humano vs computador, com realidade aumentada.   Desenvolvimento de sistema de visão para deteção de tabuleiros de damas.   OpenCV, C++</td> \n",
       "    </tr>    <tr> \n",
       "        <th id=\"T_e9d0fac6_c649_11e8_bd52_c8d3ff3ccad2level0_row5\" class=\"row_heading level0 row5\" >5</th> \n",
       "        <td id=\"T_e9d0fac6_c649_11e8_bd52_c8d3ff3ccad2row5_col0\" class=\"data row5 col0\" >Rui Alberto Correia Beloto_07_2017</td> \n",
       "        <td id=\"T_e9d0fac6_c649_11e8_bd52_c8d3ff3ccad2row5_col1\" class=\"data row5 col1\" ><a target=\"_blank\" href=\"CV\\Química\\Rui Alberto Correia Beloto_07_2017.pdf\">CV\\Química\\Rui Alberto Correia Beloto_07_2017.pdf</a></td> \n",
       "        <td id=\"T_e9d0fac6_c649_11e8_bd52_c8d3ff3ccad2row5_col2\" class=\"data row5 col2\" >0.701899</td> \n",
       "        <td id=\"T_e9d0fac6_c649_11e8_bd52_c8d3ff3ccad2row5_col3\" class=\"data row5 col3\" >Conhecimentos intermédios em Francês e Espanhol.\n",
       "Superior de Engenharia do Porto.\n",
       "Renováveis (Engenharia Química) no Instituto Superior de Engenharia do Porto (conclusão prevista a Junho 2018).\n",
       "Data de nascimento :     31  de Agosto de  1993\n",
       "Conhecimentos básicos de linguagem de programação C#, C++ e\n",
       "Excelente nível de conhecimentos de Inglês   conversação, leitura e escrita.</td> \n",
       "        <td id=\"T_e9d0fac6_c649_11e8_bd52_c8d3ff3ccad2row5_col4\" class=\"data row5 col4\" >Conhecimentos básicos de linguagem de programação C#, C++ e</td> \n",
       "    </tr>    <tr> \n",
       "        <th id=\"T_e9d0fac6_c649_11e8_bd52_c8d3ff3ccad2level0_row6\" class=\"row_heading level0 row6\" >6</th> \n",
       "        <td id=\"T_e9d0fac6_c649_11e8_bd52_c8d3ff3ccad2row6_col0\" class=\"data row6 col0\" >Catarina Acciaioli Mendes Horta Santos</td> \n",
       "        <td id=\"T_e9d0fac6_c649_11e8_bd52_c8d3ff3ccad2row6_col1\" class=\"data row6 col1\" ><a target=\"_blank\" href=\"CV\\9-setembro 2016\\Catarina Acciaioli Mendes Horta Santos.pdf\">CV\\9-setembro 2016\\Catarina Acciaioli Mendes Horta Santos.pdf</a></td> \n",
       "        <td id=\"T_e9d0fac6_c649_11e8_bd52_c8d3ff3ccad2row6_col2\" class=\"data row6 col2\" >0.675217</td> \n",
       "        <td id=\"T_e9d0fac6_c649_11e8_bd52_c8d3ff3ccad2row6_col3\" class=\"data row6 col3\" >Dissertação de mestrado: KhronoSim   Desenvolvimento de Plataforma de Testes para sistemas críticos (Dissertação de mestrado)\n",
       "Implementação de algoritmos de sincronização para a comunicação entre a plataforma de testes e  emulador\n",
       "INFORMAÇÃO PESSOAL  Catarina Acciaioli Mendes Horta Santos\n",
       "B1.1   Curso de 30 horas em Portugal</td> \n",
       "        <td id=\"T_e9d0fac6_c649_11e8_bd52_c8d3ff3ccad2row6_col4\" class=\"data row6 col4\" >▪  Tecnologias utilizadas: Python, C++, QtCreator, Debian, SVN\n",
       "▪  Optimização de algoritmos em C++ no âmbito do projecto Square Kilometre Array\n",
       "Competência digital  Conhecimento das linguagens de programação: C, C++, Matlab, Android, Java, Assembly, SQL,</td> \n",
       "    </tr>    <tr> \n",
       "        <th id=\"T_e9d0fac6_c649_11e8_bd52_c8d3ff3ccad2level0_row7\" class=\"row_heading level0 row7\" >7</th> \n",
       "        <td id=\"T_e9d0fac6_c649_11e8_bd52_c8d3ff3ccad2row7_col0\" class=\"data row7 col0\" >Nelson Queirós_04_2017</td> \n",
       "        <td id=\"T_e9d0fac6_c649_11e8_bd52_c8d3ff3ccad2row7_col1\" class=\"data row7 col1\" ><a target=\"_blank\" href=\"CV\\IT\\Nelson Queirós_04_2017.pdf\">CV\\IT\\Nelson Queirós_04_2017.pdf</a></td> \n",
       "        <td id=\"T_e9d0fac6_c649_11e8_bd52_c8d3ff3ccad2row7_col2\" class=\"data row7 col2\" >0.647593</td> \n",
       "        <td id=\"T_e9d0fac6_c649_11e8_bd52_c8d3ff3ccad2row7_col3\" class=\"data row7 col3\" >. Implementa¸c˜ao de um algoritmo gen´erico para calcular a actividade de diferentes org˜aos em fun¸c˜ao do tempo, numa Cintigraﬁa Hepatobiliar, de forma a poder estudar a zona disfuncional do f´ıgado, utilizando ferramentas como ITK SNAP, MicroView, Paraview, Visual Studio e</td> \n",
       "        <td id=\"T_e9d0fac6_c649_11e8_bd52_c8d3ff3ccad2row7_col4\" class=\"data row7 col4\" >. Desenvolvimento de uma aplica¸c˜ao inform´atica em linguagem C++ para gerir as aplica¸c˜oes de um Banco, como abertura e fecho de contas de clientes, dep´ositos e levantamentos de dinheiro, pedidos de emprestimo, visualiza¸c˜ao de saldo e de extracto banc´ario;\n",
       "Latex, e programa¸c˜ao com a linguagem C++;\n",
       "C, C++, Interface Web(HTML e XHTML, CSS, Javascript, Ajax), PHP, MySql e XML.\n",
       ". Projecto realizado com Hardware e Software utilizando o microprocessador arduino e progra ma¸c˜ao com a plataforma C/C++, de forma a controlar os acessos de uma Unidade de Sa´ude\n",
       "C/C++;</td> \n",
       "    </tr>    <tr> \n",
       "        <th id=\"T_e9d0fac6_c649_11e8_bd52_c8d3ff3ccad2level0_row8\" class=\"row_heading level0 row8\" >8</th> \n",
       "        <td id=\"T_e9d0fac6_c649_11e8_bd52_c8d3ff3ccad2row8_col0\" class=\"data row8 col0\" >Luis Filipe Macedo Martins</td> \n",
       "        <td id=\"T_e9d0fac6_c649_11e8_bd52_c8d3ff3ccad2row8_col1\" class=\"data row8 col1\" ><a target=\"_blank\" href=\"CV\\11-novembro 2016\\Luis Filipe Macedo Martins.pdf\">CV\\11-novembro 2016\\Luis Filipe Macedo Martins.pdf</a></td> \n",
       "        <td id=\"T_e9d0fac6_c649_11e8_bd52_c8d3ff3ccad2row8_col2\" class=\"data row8 col2\" >0.615906</td> \n",
       "        <td id=\"T_e9d0fac6_c649_11e8_bd52_c8d3ff3ccad2row8_col3\" class=\"data row8 col3\" >INFORMAÇÃO PESSOAL Luis Filipe Macedo Martins\n",
       "▪Criação e Compreensão de Sistemas de informação;\n",
       "▪Criação total de websites desde o design do mesmo á sua programação utilizando HTML5 + CSS3\n",
       "▪Criação de Sistemas de Informação;\n",
       "Competências de comunicação\n",
       "Licenciatura em Comunicação e Multimédia\n",
       "▪Criação e Compreensão de Bases de dados;</td> \n",
       "        <td id=\"T_e9d0fac6_c649_11e8_bd52_c8d3ff3ccad2row8_col4\" class=\"data row8 col4\" >▪Programação utilizando C++, C# e também HTML + CSS;\n",
       "Maior domínio: HTML5, CSS3, BOOTSTRAP. intermédias: C++, C# e PHP</td> \n",
       "    </tr>    <tr> \n",
       "        <th id=\"T_e9d0fac6_c649_11e8_bd52_c8d3ff3ccad2level0_row9\" class=\"row_heading level0 row9\" >9</th> \n",
       "        <td id=\"T_e9d0fac6_c649_11e8_bd52_c8d3ff3ccad2row9_col0\" class=\"data row9 col0\" >Andreia Silva</td> \n",
       "        <td id=\"T_e9d0fac6_c649_11e8_bd52_c8d3ff3ccad2row9_col1\" class=\"data row9 col1\" ><a target=\"_blank\" href=\"CV\\11-novembro 2016\\Andreia Silva.pdf\">CV\\11-novembro 2016\\Andreia Silva.pdf</a></td> \n",
       "        <td id=\"T_e9d0fac6_c649_11e8_bd52_c8d3ff3ccad2row9_col2\" class=\"data row9 col2\" >0.612844</td> \n",
       "        <td id=\"T_e9d0fac6_c649_11e8_bd52_c8d3ff3ccad2row9_col3\" class=\"data row9 col3\" >Liderança e Trabalho em Equipa;\n",
       "Colaborador NOS (Gestão: sala cerca 100 pessoas, equipa cerca 20 pessoas, reclamações tratadas cerca 20 por dia/pessoa, atendimento ao cliente, helpdesk e melhoria contínua);\n",
       "Formação\n",
       "Curso de Formação inicial de Formadores para obtenção de CAP;\n",
       "PowerPoint e Acess; Experiência em Linguagens de Programação: C/C++, SQL e linguagens web</td> \n",
       "        <td id=\"T_e9d0fac6_c649_11e8_bd52_c8d3ff3ccad2row9_col4\" class=\"data row9 col4\" >PowerPoint e Acess; Experiência em Linguagens de Programação: C/C++, SQL e linguagens web</td> \n",
       "    </tr></tbody> \n",
       "</table> "
      ],
      "text/plain": [
       "<pandas.io.formats.style.Styler at 0x1938f0edb00>"
      ]
     },
     "metadata": {},
     "output_type": "display_data"
    },
    {
     "name": "stdout",
     "output_type": "stream",
     "text": [
      "Wall time: 11.5 s\n"
     ]
    }
   ],
   "source": [
    "%time results = search_engine.run_search(['C++'], num_returns=10, summary=True)"
   ]
  },
  {
   "cell_type": "code",
   "execution_count": 1,
   "metadata": {},
   "outputs": [],
   "source": [
    "import elastic"
   ]
  },
  {
   "cell_type": "code",
   "execution_count": 2,
   "metadata": {},
   "outputs": [
    {
     "name": "stderr",
     "output_type": "stream",
     "text": [
      "GET http://192.168.20.32:9200/cv/txt/_search?size=100 [status:N/A request:10.007s]\n",
      "Traceback (most recent call last):\n",
      "  File \"C:\\ProgramData\\Anaconda3\\lib\\site-packages\\urllib3\\connectionpool.py\", line 387, in _make_request\n",
      "    six.raise_from(e, None)\n",
      "  File \"<string>\", line 2, in raise_from\n",
      "  File \"C:\\ProgramData\\Anaconda3\\lib\\site-packages\\urllib3\\connectionpool.py\", line 383, in _make_request\n",
      "    httplib_response = conn.getresponse()\n",
      "  File \"C:\\ProgramData\\Anaconda3\\lib\\http\\client.py\", line 1331, in getresponse\n",
      "    response.begin()\n",
      "  File \"C:\\ProgramData\\Anaconda3\\lib\\http\\client.py\", line 297, in begin\n",
      "    version, status, reason = self._read_status()\n",
      "  File \"C:\\ProgramData\\Anaconda3\\lib\\http\\client.py\", line 258, in _read_status\n",
      "    line = str(self.fp.readline(_MAXLINE + 1), \"iso-8859-1\")\n",
      "  File \"C:\\ProgramData\\Anaconda3\\lib\\socket.py\", line 586, in readinto\n",
      "    return self._sock.recv_into(b)\n",
      "socket.timeout: timed out\n",
      "\n",
      "During handling of the above exception, another exception occurred:\n",
      "\n",
      "Traceback (most recent call last):\n",
      "  File \"C:\\ProgramData\\Anaconda3\\lib\\site-packages\\elasticsearch\\connection\\http_urllib3.py\", line 172, in perform_request\n",
      "    response = self.pool.urlopen(method, url, body, retries=Retry(False), headers=request_headers, **kw)\n",
      "  File \"C:\\ProgramData\\Anaconda3\\lib\\site-packages\\urllib3\\connectionpool.py\", line 639, in urlopen\n",
      "    _stacktrace=sys.exc_info()[2])\n",
      "  File \"C:\\ProgramData\\Anaconda3\\lib\\site-packages\\urllib3\\util\\retry.py\", line 333, in increment\n",
      "    raise six.reraise(type(error), error, _stacktrace)\n",
      "  File \"C:\\ProgramData\\Anaconda3\\lib\\site-packages\\urllib3\\packages\\six.py\", line 686, in reraise\n",
      "    raise value\n",
      "  File \"C:\\ProgramData\\Anaconda3\\lib\\site-packages\\urllib3\\connectionpool.py\", line 601, in urlopen\n",
      "    chunked=chunked)\n",
      "  File \"C:\\ProgramData\\Anaconda3\\lib\\site-packages\\urllib3\\connectionpool.py\", line 389, in _make_request\n",
      "    self._raise_timeout(err=e, url=url, timeout_value=read_timeout)\n",
      "  File \"C:\\ProgramData\\Anaconda3\\lib\\site-packages\\urllib3\\connectionpool.py\", line 309, in _raise_timeout\n",
      "    raise ReadTimeoutError(self, url, \"Read timed out. (read timeout=%s)\" % timeout_value)\n",
      "urllib3.exceptions.ReadTimeoutError: HTTPConnectionPool(host='192.168.20.32', port=9200): Read timed out. (read timeout=10)\n"
     ]
    },
    {
     "ename": "ConnectionTimeout",
     "evalue": "ConnectionTimeout caused by - ReadTimeoutError(HTTPConnectionPool(host='192.168.20.32', port=9200): Read timed out. (read timeout=10))",
     "output_type": "error",
     "traceback": [
      "\u001b[1;31m---------------------------------------------------------------------------\u001b[0m",
      "\u001b[1;31mtimeout\u001b[0m                                   Traceback (most recent call last)",
      "\u001b[1;32mC:\\ProgramData\\Anaconda3\\lib\\site-packages\\urllib3\\connectionpool.py\u001b[0m in \u001b[0;36m_make_request\u001b[1;34m(self, conn, method, url, timeout, chunked, **httplib_request_kw)\u001b[0m\n\u001b[0;32m    386\u001b[0m                     \u001b[1;31m# otherwise it looks like a programming error was the cause.\u001b[0m\u001b[1;33m\u001b[0m\u001b[1;33m\u001b[0m\u001b[0m\n\u001b[1;32m--> 387\u001b[1;33m                     \u001b[0msix\u001b[0m\u001b[1;33m.\u001b[0m\u001b[0mraise_from\u001b[0m\u001b[1;33m(\u001b[0m\u001b[0me\u001b[0m\u001b[1;33m,\u001b[0m \u001b[1;32mNone\u001b[0m\u001b[1;33m)\u001b[0m\u001b[1;33m\u001b[0m\u001b[0m\n\u001b[0m\u001b[0;32m    388\u001b[0m         \u001b[1;32mexcept\u001b[0m \u001b[1;33m(\u001b[0m\u001b[0mSocketTimeout\u001b[0m\u001b[1;33m,\u001b[0m \u001b[0mBaseSSLError\u001b[0m\u001b[1;33m,\u001b[0m \u001b[0mSocketError\u001b[0m\u001b[1;33m)\u001b[0m \u001b[1;32mas\u001b[0m \u001b[0me\u001b[0m\u001b[1;33m:\u001b[0m\u001b[1;33m\u001b[0m\u001b[0m\n",
      "\u001b[1;32mC:\\ProgramData\\Anaconda3\\lib\\site-packages\\urllib3\\packages\\six.py\u001b[0m in \u001b[0;36mraise_from\u001b[1;34m(value, from_value)\u001b[0m\n",
      "\u001b[1;32mC:\\ProgramData\\Anaconda3\\lib\\site-packages\\urllib3\\connectionpool.py\u001b[0m in \u001b[0;36m_make_request\u001b[1;34m(self, conn, method, url, timeout, chunked, **httplib_request_kw)\u001b[0m\n\u001b[0;32m    382\u001b[0m                 \u001b[1;32mtry\u001b[0m\u001b[1;33m:\u001b[0m\u001b[1;33m\u001b[0m\u001b[0m\n\u001b[1;32m--> 383\u001b[1;33m                     \u001b[0mhttplib_response\u001b[0m \u001b[1;33m=\u001b[0m \u001b[0mconn\u001b[0m\u001b[1;33m.\u001b[0m\u001b[0mgetresponse\u001b[0m\u001b[1;33m(\u001b[0m\u001b[1;33m)\u001b[0m\u001b[1;33m\u001b[0m\u001b[0m\n\u001b[0m\u001b[0;32m    384\u001b[0m                 \u001b[1;32mexcept\u001b[0m \u001b[0mException\u001b[0m \u001b[1;32mas\u001b[0m \u001b[0me\u001b[0m\u001b[1;33m:\u001b[0m\u001b[1;33m\u001b[0m\u001b[0m\n",
      "\u001b[1;32mC:\\ProgramData\\Anaconda3\\lib\\http\\client.py\u001b[0m in \u001b[0;36mgetresponse\u001b[1;34m(self)\u001b[0m\n\u001b[0;32m   1330\u001b[0m             \u001b[1;32mtry\u001b[0m\u001b[1;33m:\u001b[0m\u001b[1;33m\u001b[0m\u001b[0m\n\u001b[1;32m-> 1331\u001b[1;33m                 \u001b[0mresponse\u001b[0m\u001b[1;33m.\u001b[0m\u001b[0mbegin\u001b[0m\u001b[1;33m(\u001b[0m\u001b[1;33m)\u001b[0m\u001b[1;33m\u001b[0m\u001b[0m\n\u001b[0m\u001b[0;32m   1332\u001b[0m             \u001b[1;32mexcept\u001b[0m \u001b[0mConnectionError\u001b[0m\u001b[1;33m:\u001b[0m\u001b[1;33m\u001b[0m\u001b[0m\n",
      "\u001b[1;32mC:\\ProgramData\\Anaconda3\\lib\\http\\client.py\u001b[0m in \u001b[0;36mbegin\u001b[1;34m(self)\u001b[0m\n\u001b[0;32m    296\u001b[0m         \u001b[1;32mwhile\u001b[0m \u001b[1;32mTrue\u001b[0m\u001b[1;33m:\u001b[0m\u001b[1;33m\u001b[0m\u001b[0m\n\u001b[1;32m--> 297\u001b[1;33m             \u001b[0mversion\u001b[0m\u001b[1;33m,\u001b[0m \u001b[0mstatus\u001b[0m\u001b[1;33m,\u001b[0m \u001b[0mreason\u001b[0m \u001b[1;33m=\u001b[0m \u001b[0mself\u001b[0m\u001b[1;33m.\u001b[0m\u001b[0m_read_status\u001b[0m\u001b[1;33m(\u001b[0m\u001b[1;33m)\u001b[0m\u001b[1;33m\u001b[0m\u001b[0m\n\u001b[0m\u001b[0;32m    298\u001b[0m             \u001b[1;32mif\u001b[0m \u001b[0mstatus\u001b[0m \u001b[1;33m!=\u001b[0m \u001b[0mCONTINUE\u001b[0m\u001b[1;33m:\u001b[0m\u001b[1;33m\u001b[0m\u001b[0m\n",
      "\u001b[1;32mC:\\ProgramData\\Anaconda3\\lib\\http\\client.py\u001b[0m in \u001b[0;36m_read_status\u001b[1;34m(self)\u001b[0m\n\u001b[0;32m    257\u001b[0m     \u001b[1;32mdef\u001b[0m \u001b[0m_read_status\u001b[0m\u001b[1;33m(\u001b[0m\u001b[0mself\u001b[0m\u001b[1;33m)\u001b[0m\u001b[1;33m:\u001b[0m\u001b[1;33m\u001b[0m\u001b[0m\n\u001b[1;32m--> 258\u001b[1;33m         \u001b[0mline\u001b[0m \u001b[1;33m=\u001b[0m \u001b[0mstr\u001b[0m\u001b[1;33m(\u001b[0m\u001b[0mself\u001b[0m\u001b[1;33m.\u001b[0m\u001b[0mfp\u001b[0m\u001b[1;33m.\u001b[0m\u001b[0mreadline\u001b[0m\u001b[1;33m(\u001b[0m\u001b[0m_MAXLINE\u001b[0m \u001b[1;33m+\u001b[0m \u001b[1;36m1\u001b[0m\u001b[1;33m)\u001b[0m\u001b[1;33m,\u001b[0m \u001b[1;34m\"iso-8859-1\"\u001b[0m\u001b[1;33m)\u001b[0m\u001b[1;33m\u001b[0m\u001b[0m\n\u001b[0m\u001b[0;32m    259\u001b[0m         \u001b[1;32mif\u001b[0m \u001b[0mlen\u001b[0m\u001b[1;33m(\u001b[0m\u001b[0mline\u001b[0m\u001b[1;33m)\u001b[0m \u001b[1;33m>\u001b[0m \u001b[0m_MAXLINE\u001b[0m\u001b[1;33m:\u001b[0m\u001b[1;33m\u001b[0m\u001b[0m\n",
      "\u001b[1;32mC:\\ProgramData\\Anaconda3\\lib\\socket.py\u001b[0m in \u001b[0;36mreadinto\u001b[1;34m(self, b)\u001b[0m\n\u001b[0;32m    585\u001b[0m             \u001b[1;32mtry\u001b[0m\u001b[1;33m:\u001b[0m\u001b[1;33m\u001b[0m\u001b[0m\n\u001b[1;32m--> 586\u001b[1;33m                 \u001b[1;32mreturn\u001b[0m \u001b[0mself\u001b[0m\u001b[1;33m.\u001b[0m\u001b[0m_sock\u001b[0m\u001b[1;33m.\u001b[0m\u001b[0mrecv_into\u001b[0m\u001b[1;33m(\u001b[0m\u001b[0mb\u001b[0m\u001b[1;33m)\u001b[0m\u001b[1;33m\u001b[0m\u001b[0m\n\u001b[0m\u001b[0;32m    587\u001b[0m             \u001b[1;32mexcept\u001b[0m \u001b[0mtimeout\u001b[0m\u001b[1;33m:\u001b[0m\u001b[1;33m\u001b[0m\u001b[0m\n",
      "\u001b[1;31mtimeout\u001b[0m: timed out",
      "\nDuring handling of the above exception, another exception occurred:\n",
      "\u001b[1;31mReadTimeoutError\u001b[0m                          Traceback (most recent call last)",
      "\u001b[1;32mC:\\ProgramData\\Anaconda3\\lib\\site-packages\\elasticsearch\\connection\\http_urllib3.py\u001b[0m in \u001b[0;36mperform_request\u001b[1;34m(self, method, url, params, body, timeout, ignore, headers)\u001b[0m\n\u001b[0;32m    171\u001b[0m \u001b[1;33m\u001b[0m\u001b[0m\n\u001b[1;32m--> 172\u001b[1;33m             \u001b[0mresponse\u001b[0m \u001b[1;33m=\u001b[0m \u001b[0mself\u001b[0m\u001b[1;33m.\u001b[0m\u001b[0mpool\u001b[0m\u001b[1;33m.\u001b[0m\u001b[0murlopen\u001b[0m\u001b[1;33m(\u001b[0m\u001b[0mmethod\u001b[0m\u001b[1;33m,\u001b[0m \u001b[0murl\u001b[0m\u001b[1;33m,\u001b[0m \u001b[0mbody\u001b[0m\u001b[1;33m,\u001b[0m \u001b[0mretries\u001b[0m\u001b[1;33m=\u001b[0m\u001b[0mRetry\u001b[0m\u001b[1;33m(\u001b[0m\u001b[1;32mFalse\u001b[0m\u001b[1;33m)\u001b[0m\u001b[1;33m,\u001b[0m \u001b[0mheaders\u001b[0m\u001b[1;33m=\u001b[0m\u001b[0mrequest_headers\u001b[0m\u001b[1;33m,\u001b[0m \u001b[1;33m**\u001b[0m\u001b[0mkw\u001b[0m\u001b[1;33m)\u001b[0m\u001b[1;33m\u001b[0m\u001b[0m\n\u001b[0m\u001b[0;32m    173\u001b[0m             \u001b[0mduration\u001b[0m \u001b[1;33m=\u001b[0m \u001b[0mtime\u001b[0m\u001b[1;33m.\u001b[0m\u001b[0mtime\u001b[0m\u001b[1;33m(\u001b[0m\u001b[1;33m)\u001b[0m \u001b[1;33m-\u001b[0m \u001b[0mstart\u001b[0m\u001b[1;33m\u001b[0m\u001b[0m\n",
      "\u001b[1;32mC:\\ProgramData\\Anaconda3\\lib\\site-packages\\urllib3\\connectionpool.py\u001b[0m in \u001b[0;36murlopen\u001b[1;34m(self, method, url, body, headers, retries, redirect, assert_same_host, timeout, pool_timeout, release_conn, chunked, body_pos, **response_kw)\u001b[0m\n\u001b[0;32m    638\u001b[0m             retries = retries.increment(method, url, error=e, _pool=self,\n\u001b[1;32m--> 639\u001b[1;33m                                         _stacktrace=sys.exc_info()[2])\n\u001b[0m\u001b[0;32m    640\u001b[0m             \u001b[0mretries\u001b[0m\u001b[1;33m.\u001b[0m\u001b[0msleep\u001b[0m\u001b[1;33m(\u001b[0m\u001b[1;33m)\u001b[0m\u001b[1;33m\u001b[0m\u001b[0m\n",
      "\u001b[1;32mC:\\ProgramData\\Anaconda3\\lib\\site-packages\\urllib3\\util\\retry.py\u001b[0m in \u001b[0;36mincrement\u001b[1;34m(self, method, url, response, error, _pool, _stacktrace)\u001b[0m\n\u001b[0;32m    332\u001b[0m             \u001b[1;31m# Disabled, indicate to re-raise the error.\u001b[0m\u001b[1;33m\u001b[0m\u001b[1;33m\u001b[0m\u001b[0m\n\u001b[1;32m--> 333\u001b[1;33m             \u001b[1;32mraise\u001b[0m \u001b[0msix\u001b[0m\u001b[1;33m.\u001b[0m\u001b[0mreraise\u001b[0m\u001b[1;33m(\u001b[0m\u001b[0mtype\u001b[0m\u001b[1;33m(\u001b[0m\u001b[0merror\u001b[0m\u001b[1;33m)\u001b[0m\u001b[1;33m,\u001b[0m \u001b[0merror\u001b[0m\u001b[1;33m,\u001b[0m \u001b[0m_stacktrace\u001b[0m\u001b[1;33m)\u001b[0m\u001b[1;33m\u001b[0m\u001b[0m\n\u001b[0m\u001b[0;32m    334\u001b[0m \u001b[1;33m\u001b[0m\u001b[0m\n",
      "\u001b[1;32mC:\\ProgramData\\Anaconda3\\lib\\site-packages\\urllib3\\packages\\six.py\u001b[0m in \u001b[0;36mreraise\u001b[1;34m(tp, value, tb)\u001b[0m\n\u001b[0;32m    685\u001b[0m             \u001b[1;32mraise\u001b[0m \u001b[0mvalue\u001b[0m\u001b[1;33m.\u001b[0m\u001b[0mwith_traceback\u001b[0m\u001b[1;33m(\u001b[0m\u001b[0mtb\u001b[0m\u001b[1;33m)\u001b[0m\u001b[1;33m\u001b[0m\u001b[0m\n\u001b[1;32m--> 686\u001b[1;33m         \u001b[1;32mraise\u001b[0m \u001b[0mvalue\u001b[0m\u001b[1;33m\u001b[0m\u001b[0m\n\u001b[0m\u001b[0;32m    687\u001b[0m \u001b[1;33m\u001b[0m\u001b[0m\n",
      "\u001b[1;32mC:\\ProgramData\\Anaconda3\\lib\\site-packages\\urllib3\\connectionpool.py\u001b[0m in \u001b[0;36murlopen\u001b[1;34m(self, method, url, body, headers, retries, redirect, assert_same_host, timeout, pool_timeout, release_conn, chunked, body_pos, **response_kw)\u001b[0m\n\u001b[0;32m    600\u001b[0m                                                   \u001b[0mbody\u001b[0m\u001b[1;33m=\u001b[0m\u001b[0mbody\u001b[0m\u001b[1;33m,\u001b[0m \u001b[0mheaders\u001b[0m\u001b[1;33m=\u001b[0m\u001b[0mheaders\u001b[0m\u001b[1;33m,\u001b[0m\u001b[1;33m\u001b[0m\u001b[0m\n\u001b[1;32m--> 601\u001b[1;33m                                                   chunked=chunked)\n\u001b[0m\u001b[0;32m    602\u001b[0m \u001b[1;33m\u001b[0m\u001b[0m\n",
      "\u001b[1;32mC:\\ProgramData\\Anaconda3\\lib\\site-packages\\urllib3\\connectionpool.py\u001b[0m in \u001b[0;36m_make_request\u001b[1;34m(self, conn, method, url, timeout, chunked, **httplib_request_kw)\u001b[0m\n\u001b[0;32m    388\u001b[0m         \u001b[1;32mexcept\u001b[0m \u001b[1;33m(\u001b[0m\u001b[0mSocketTimeout\u001b[0m\u001b[1;33m,\u001b[0m \u001b[0mBaseSSLError\u001b[0m\u001b[1;33m,\u001b[0m \u001b[0mSocketError\u001b[0m\u001b[1;33m)\u001b[0m \u001b[1;32mas\u001b[0m \u001b[0me\u001b[0m\u001b[1;33m:\u001b[0m\u001b[1;33m\u001b[0m\u001b[0m\n\u001b[1;32m--> 389\u001b[1;33m             \u001b[0mself\u001b[0m\u001b[1;33m.\u001b[0m\u001b[0m_raise_timeout\u001b[0m\u001b[1;33m(\u001b[0m\u001b[0merr\u001b[0m\u001b[1;33m=\u001b[0m\u001b[0me\u001b[0m\u001b[1;33m,\u001b[0m \u001b[0murl\u001b[0m\u001b[1;33m=\u001b[0m\u001b[0murl\u001b[0m\u001b[1;33m,\u001b[0m \u001b[0mtimeout_value\u001b[0m\u001b[1;33m=\u001b[0m\u001b[0mread_timeout\u001b[0m\u001b[1;33m)\u001b[0m\u001b[1;33m\u001b[0m\u001b[0m\n\u001b[0m\u001b[0;32m    390\u001b[0m             \u001b[1;32mraise\u001b[0m\u001b[1;33m\u001b[0m\u001b[0m\n",
      "\u001b[1;32mC:\\ProgramData\\Anaconda3\\lib\\site-packages\\urllib3\\connectionpool.py\u001b[0m in \u001b[0;36m_raise_timeout\u001b[1;34m(self, err, url, timeout_value)\u001b[0m\n\u001b[0;32m    308\u001b[0m         \u001b[1;32mif\u001b[0m \u001b[0misinstance\u001b[0m\u001b[1;33m(\u001b[0m\u001b[0merr\u001b[0m\u001b[1;33m,\u001b[0m \u001b[0mSocketTimeout\u001b[0m\u001b[1;33m)\u001b[0m\u001b[1;33m:\u001b[0m\u001b[1;33m\u001b[0m\u001b[0m\n\u001b[1;32m--> 309\u001b[1;33m             \u001b[1;32mraise\u001b[0m \u001b[0mReadTimeoutError\u001b[0m\u001b[1;33m(\u001b[0m\u001b[0mself\u001b[0m\u001b[1;33m,\u001b[0m \u001b[0murl\u001b[0m\u001b[1;33m,\u001b[0m \u001b[1;34m\"Read timed out. (read timeout=%s)\"\u001b[0m \u001b[1;33m%\u001b[0m \u001b[0mtimeout_value\u001b[0m\u001b[1;33m)\u001b[0m\u001b[1;33m\u001b[0m\u001b[0m\n\u001b[0m\u001b[0;32m    310\u001b[0m \u001b[1;33m\u001b[0m\u001b[0m\n",
      "\u001b[1;31mReadTimeoutError\u001b[0m: HTTPConnectionPool(host='192.168.20.32', port=9200): Read timed out. (read timeout=10)",
      "\nDuring handling of the above exception, another exception occurred:\n",
      "\u001b[1;31mConnectionTimeout\u001b[0m                         Traceback (most recent call last)",
      "\u001b[1;32m<ipython-input-2-9552173f5883>\u001b[0m in \u001b[0;36m<module>\u001b[1;34m()\u001b[0m\n\u001b[1;32m----> 1\u001b[1;33m \u001b[0melastic\u001b[0m\u001b[1;33m.\u001b[0m\u001b[0mquery_elastic_by_keywords\u001b[0m\u001b[1;33m(\u001b[0m\u001b[1;34m'Banana'\u001b[0m\u001b[1;33m)\u001b[0m\u001b[1;33m\u001b[0m\u001b[0m\n\u001b[0m",
      "\u001b[1;32m~\\Desktop\\Document_Clustering\\elastic.py\u001b[0m in \u001b[0;36mquery_elastic_by_keywords\u001b[1;34m(keywords, max_size)\u001b[0m\n\u001b[0;32m     29\u001b[0m                                \u001b[0mdoc_type\u001b[0m\u001b[1;33m=\u001b[0m\u001b[1;34m'txt'\u001b[0m\u001b[1;33m,\u001b[0m\u001b[1;33m\u001b[0m\u001b[0m\n\u001b[0;32m     30\u001b[0m                                \u001b[0msize\u001b[0m\u001b[1;33m=\u001b[0m\u001b[0mmax_size\u001b[0m\u001b[1;33m,\u001b[0m\u001b[1;33m\u001b[0m\u001b[0m\n\u001b[1;32m---> 31\u001b[1;33m                                body=query_body)\n\u001b[0m\u001b[0;32m     32\u001b[0m     \u001b[1;32mreturn\u001b[0m \u001b[0msearch_results\u001b[0m\u001b[1;33m\u001b[0m\u001b[0m\n\u001b[0;32m     33\u001b[0m \u001b[1;33m\u001b[0m\u001b[0m\n",
      "\u001b[1;32mC:\\ProgramData\\Anaconda3\\lib\\site-packages\\elasticsearch\\client\\utils.py\u001b[0m in \u001b[0;36m_wrapped\u001b[1;34m(*args, **kwargs)\u001b[0m\n\u001b[0;32m     74\u001b[0m                 \u001b[1;32mif\u001b[0m \u001b[0mp\u001b[0m \u001b[1;32min\u001b[0m \u001b[0mkwargs\u001b[0m\u001b[1;33m:\u001b[0m\u001b[1;33m\u001b[0m\u001b[0m\n\u001b[0;32m     75\u001b[0m                     \u001b[0mparams\u001b[0m\u001b[1;33m[\u001b[0m\u001b[0mp\u001b[0m\u001b[1;33m]\u001b[0m \u001b[1;33m=\u001b[0m \u001b[0mkwargs\u001b[0m\u001b[1;33m.\u001b[0m\u001b[0mpop\u001b[0m\u001b[1;33m(\u001b[0m\u001b[0mp\u001b[0m\u001b[1;33m)\u001b[0m\u001b[1;33m\u001b[0m\u001b[0m\n\u001b[1;32m---> 76\u001b[1;33m             \u001b[1;32mreturn\u001b[0m \u001b[0mfunc\u001b[0m\u001b[1;33m(\u001b[0m\u001b[1;33m*\u001b[0m\u001b[0margs\u001b[0m\u001b[1;33m,\u001b[0m \u001b[0mparams\u001b[0m\u001b[1;33m=\u001b[0m\u001b[0mparams\u001b[0m\u001b[1;33m,\u001b[0m \u001b[1;33m**\u001b[0m\u001b[0mkwargs\u001b[0m\u001b[1;33m)\u001b[0m\u001b[1;33m\u001b[0m\u001b[0m\n\u001b[0m\u001b[0;32m     77\u001b[0m         \u001b[1;32mreturn\u001b[0m \u001b[0m_wrapped\u001b[0m\u001b[1;33m\u001b[0m\u001b[0m\n\u001b[0;32m     78\u001b[0m     \u001b[1;32mreturn\u001b[0m \u001b[0m_wrapper\u001b[0m\u001b[1;33m\u001b[0m\u001b[0m\n",
      "\u001b[1;32mC:\\ProgramData\\Anaconda3\\lib\\site-packages\\elasticsearch\\client\\__init__.py\u001b[0m in \u001b[0;36msearch\u001b[1;34m(self, index, doc_type, body, params)\u001b[0m\n\u001b[0;32m    658\u001b[0m             \u001b[0mindex\u001b[0m \u001b[1;33m=\u001b[0m \u001b[1;34m'_all'\u001b[0m\u001b[1;33m\u001b[0m\u001b[0m\n\u001b[0;32m    659\u001b[0m         return self.transport.perform_request('GET', _make_path(index,\n\u001b[1;32m--> 660\u001b[1;33m             doc_type, '_search'), params=params, body=body)\n\u001b[0m\u001b[0;32m    661\u001b[0m \u001b[1;33m\u001b[0m\u001b[0m\n\u001b[0;32m    662\u001b[0m     @query_params('_source', '_source_exclude', '_source_include',\n",
      "\u001b[1;32mC:\\ProgramData\\Anaconda3\\lib\\site-packages\\elasticsearch\\transport.py\u001b[0m in \u001b[0;36mperform_request\u001b[1;34m(self, method, url, headers, params, body)\u001b[0m\n\u001b[0;32m    316\u001b[0m                 \u001b[0mdelay\u001b[0m \u001b[1;33m=\u001b[0m \u001b[1;36m2\u001b[0m\u001b[1;33m**\u001b[0m\u001b[0mattempt\u001b[0m \u001b[1;33m-\u001b[0m \u001b[1;36m1\u001b[0m\u001b[1;33m\u001b[0m\u001b[0m\n\u001b[0;32m    317\u001b[0m                 \u001b[0mtime\u001b[0m\u001b[1;33m.\u001b[0m\u001b[0msleep\u001b[0m\u001b[1;33m(\u001b[0m\u001b[0mdelay\u001b[0m\u001b[1;33m)\u001b[0m\u001b[1;33m\u001b[0m\u001b[0m\n\u001b[1;32m--> 318\u001b[1;33m                 \u001b[0mstatus\u001b[0m\u001b[1;33m,\u001b[0m \u001b[0mheaders_response\u001b[0m\u001b[1;33m,\u001b[0m \u001b[0mdata\u001b[0m \u001b[1;33m=\u001b[0m \u001b[0mconnection\u001b[0m\u001b[1;33m.\u001b[0m\u001b[0mperform_request\u001b[0m\u001b[1;33m(\u001b[0m\u001b[0mmethod\u001b[0m\u001b[1;33m,\u001b[0m \u001b[0murl\u001b[0m\u001b[1;33m,\u001b[0m \u001b[0mparams\u001b[0m\u001b[1;33m,\u001b[0m \u001b[0mbody\u001b[0m\u001b[1;33m,\u001b[0m \u001b[0mheaders\u001b[0m\u001b[1;33m=\u001b[0m\u001b[0mheaders\u001b[0m\u001b[1;33m,\u001b[0m \u001b[0mignore\u001b[0m\u001b[1;33m=\u001b[0m\u001b[0mignore\u001b[0m\u001b[1;33m,\u001b[0m \u001b[0mtimeout\u001b[0m\u001b[1;33m=\u001b[0m\u001b[0mtimeout\u001b[0m\u001b[1;33m)\u001b[0m\u001b[1;33m\u001b[0m\u001b[0m\n\u001b[0m\u001b[0;32m    319\u001b[0m \u001b[1;33m\u001b[0m\u001b[0m\n\u001b[0;32m    320\u001b[0m             \u001b[1;32mexcept\u001b[0m \u001b[0mTransportError\u001b[0m \u001b[1;32mas\u001b[0m \u001b[0me\u001b[0m\u001b[1;33m:\u001b[0m\u001b[1;33m\u001b[0m\u001b[0m\n",
      "\u001b[1;32mC:\\ProgramData\\Anaconda3\\lib\\site-packages\\elasticsearch\\connection\\http_urllib3.py\u001b[0m in \u001b[0;36mperform_request\u001b[1;34m(self, method, url, params, body, timeout, ignore, headers)\u001b[0m\n\u001b[0;32m    178\u001b[0m                 \u001b[1;32mraise\u001b[0m \u001b[0mSSLError\u001b[0m\u001b[1;33m(\u001b[0m\u001b[1;34m'N/A'\u001b[0m\u001b[1;33m,\u001b[0m \u001b[0mstr\u001b[0m\u001b[1;33m(\u001b[0m\u001b[0me\u001b[0m\u001b[1;33m)\u001b[0m\u001b[1;33m,\u001b[0m \u001b[0me\u001b[0m\u001b[1;33m)\u001b[0m\u001b[1;33m\u001b[0m\u001b[0m\n\u001b[0;32m    179\u001b[0m             \u001b[1;32mif\u001b[0m \u001b[0misinstance\u001b[0m\u001b[1;33m(\u001b[0m\u001b[0me\u001b[0m\u001b[1;33m,\u001b[0m \u001b[0mReadTimeoutError\u001b[0m\u001b[1;33m)\u001b[0m\u001b[1;33m:\u001b[0m\u001b[1;33m\u001b[0m\u001b[0m\n\u001b[1;32m--> 180\u001b[1;33m                 \u001b[1;32mraise\u001b[0m \u001b[0mConnectionTimeout\u001b[0m\u001b[1;33m(\u001b[0m\u001b[1;34m'TIMEOUT'\u001b[0m\u001b[1;33m,\u001b[0m \u001b[0mstr\u001b[0m\u001b[1;33m(\u001b[0m\u001b[0me\u001b[0m\u001b[1;33m)\u001b[0m\u001b[1;33m,\u001b[0m \u001b[0me\u001b[0m\u001b[1;33m)\u001b[0m\u001b[1;33m\u001b[0m\u001b[0m\n\u001b[0m\u001b[0;32m    181\u001b[0m             \u001b[1;32mraise\u001b[0m \u001b[0mConnectionError\u001b[0m\u001b[1;33m(\u001b[0m\u001b[1;34m'N/A'\u001b[0m\u001b[1;33m,\u001b[0m \u001b[0mstr\u001b[0m\u001b[1;33m(\u001b[0m\u001b[0me\u001b[0m\u001b[1;33m)\u001b[0m\u001b[1;33m,\u001b[0m \u001b[0me\u001b[0m\u001b[1;33m)\u001b[0m\u001b[1;33m\u001b[0m\u001b[0m\n\u001b[0;32m    182\u001b[0m \u001b[1;33m\u001b[0m\u001b[0m\n",
      "\u001b[1;31mConnectionTimeout\u001b[0m: ConnectionTimeout caused by - ReadTimeoutError(HTTPConnectionPool(host='192.168.20.32', port=9200): Read timed out. (read timeout=10))"
     ]
    }
   ],
   "source": [
    "elastic.query_elastic_by_keywords('Banana')"
   ]
  },
  {
   "cell_type": "code",
   "execution_count": null,
   "metadata": {},
   "outputs": [],
   "source": []
  }
 ],
 "metadata": {
  "kernelspec": {
   "display_name": "Python 3",
   "language": "python",
   "name": "python3"
  },
  "language_info": {
   "codemirror_mode": {
    "name": "ipython",
    "version": 3
   },
   "file_extension": ".py",
   "mimetype": "text/x-python",
   "name": "python",
   "nbconvert_exporter": "python",
   "pygments_lexer": "ipython3",
   "version": "3.6.5"
  }
 },
 "nbformat": 4,
 "nbformat_minor": 2
}
