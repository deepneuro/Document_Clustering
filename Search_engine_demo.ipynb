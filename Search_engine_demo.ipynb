{
 "cells": [
  {
   "cell_type": "code",
   "execution_count": 6,
   "metadata": {},
   "outputs": [],
   "source": [
    "import warnings\n",
    "warnings.filterwarnings('ignore')\n",
    "import main\n",
    "import ipywidgets as widgets\n",
    "import tkinter as tk\n",
    "from tkinter import filedialog\n",
    "from IPython.core.display import clear_output, display, HTML\n",
    "import qgrid\n",
    "from elasticsearch import Elasticsearch\n",
    "from elasticsearch.helpers import bulk\n",
    "import os\n",
    "import pandas as pd\n",
    "import dummy"
   ]
  },
  {
   "cell_type": "code",
   "execution_count": 7,
   "metadata": {},
   "outputs": [],
   "source": [
    "search_engine_2 = main.SearchEngineElasticSearch(init_path=r'C:\\Users\\sergiojesus\\Desktop\\Document_Clustering\\CV', index_name='cv')"
   ]
  },
  {
   "cell_type": "code",
   "execution_count": 8,
   "metadata": {
    "scrolled": false
   },
   "outputs": [],
   "source": [
    "style = {'description_width': 'initial'}\n",
    "textWidget = widgets.Text(\n",
    "                          placeholder='Search',\n",
    "                          description='Search Term(s): ',\n",
    "                          disabled=False,\n",
    "                          style=style,\n",
    "                          layout=widgets.Layout(width='1000px')\n",
    "                         )\n",
    "\n",
    "checkboxWidget = widgets.Checkbox(\n",
    "                                  value=False, \n",
    "                                  description='Summary',\n",
    "                                  disabled=False,\n",
    "                                 )\n",
    "results_output = widgets.Output()\n",
    "\n",
    "def general_function(widget):\n",
    "    if textWidget.value != '':\n",
    "        results_output.clear_output()\n",
    "        results = search_engine_2.query_database(textWidget.value, summary=checkboxWidget.value, max_size=10)\n",
    "        with results_output:\n",
    "            display(results[1])\n",
    "\n",
    "\n",
    "textWidget.on_submit(general_function)\n",
    "items = [textWidget, checkboxWidget]\n",
    "boxLayout = widgets.Layout(flex_flow='line')\n",
    "widgetsBox = widgets.HBox(children=items, layout=boxLayout)\n",
    "resultsBox = widgets.HBox(children=[results_output])"
   ]
  },
  {
   "cell_type": "code",
   "execution_count": 10,
   "metadata": {
    "scrolled": false
   },
   "outputs": [
    {
     "data": {
      "text/html": [
       "<body><h1>CV Ingestion Framework</h1></body>"
      ],
      "text/plain": [
       "<IPython.core.display.HTML object>"
      ]
     },
     "metadata": {},
     "output_type": "display_data"
    },
    {
     "data": {
      "application/vnd.jupyter.widget-view+json": {
       "model_id": "1b93ff1a0b694dc3bf6e0190b83b17d8",
       "version_major": 2,
       "version_minor": 0
      },
      "text/plain": [
       "HBox(children=(Button(description='Converter', icon='picture-o', style=ButtonStyle()), Button(description='Bro…"
      ]
     },
     "metadata": {},
     "output_type": "display_data"
    },
    {
     "data": {
      "text/html": [
       "<style>div.input {display:none;}</style>"
      ],
      "text/plain": [
       "<IPython.core.display.HTML object>"
      ]
     },
     "metadata": {},
     "output_type": "display_data"
    },
    {
     "name": "stdout",
     "output_type": "stream",
     "text": [
      ">>> Selected file: CV_EmanuelOliveira_pt.pdf\n",
      ">>> Please wait a few seconds for convertion...\n",
      ">>> PDF file CV_EmanuelOliveira_pt.pdf converted to .txt!\n",
      ">>> Selected file: CV_EmanuelOliveira_pt.txt\n",
      ">>> Ready to Upload!\n"
     ]
    }
   ],
   "source": [
    "display(HTML('<body><h1>CV Ingestion Framework</h1></body>'))\n",
    "def upload_click(b):\n",
    "    with open('temp.txt',\"r\") as pf:\n",
    "        file_path = pf.read()\n",
    "        filename = file_path.split('/')[-1:][0]\n",
    "        \n",
    "    with open(file_path,\"r\") as fp:\n",
    "        corpus = fp.read()\n",
    "    new_df = pd.DataFrame(index=[1], columns=[\"name\", \"content\"], data={\"name\":filename, \"content\":corpus})\n",
    "\n",
    "    col_names = new_df.columns\n",
    "    for row_number in range(new_df.shape[0]):\n",
    "        body = dict([(name, str(new_df.iloc[row_number][name])) for name in col_names])\n",
    "        es.index(index = 'cv', doc_type= 'txt', body = body)\n",
    "    print('>>> Upload to database done!')\n",
    "    _bupload.button_style = 'success'\n",
    "    _bupload.disabled = True\n",
    "    \n",
    "    \n",
    "def select_click(b):\n",
    "    #upload_dict = self._plotopt._create_dictionary()\n",
    "    # upload_dict_fusion = self._plotopt._create_dictionary_fusion()\n",
    "    #bulk_indexing(upload_dict, 1)\n",
    "    # bulk_indexing_fusion(upload_dict_fusion, 1)\n",
    "    _bupload.button_style = ''\n",
    "\n",
    "    root = tk.Tk()\n",
    "    root.withdraw()\n",
    "    file_path = filedialog.askopenfilename(filetypes = ((\"pdf files\",\"*.pdf\"), (\"txt files\",\"*.txt\"), (\"all files\",\"*.*\")))\n",
    "    filename = file_path.split('/')[-1:][0]\n",
    "    extension = filename.split('.')[-1:][0]\n",
    "    \n",
    "    if extension == 'txt':\n",
    "        print('>>> Selected file:',file_path.split('/')[-1:][0])\n",
    "        _bupload.disabled = False\n",
    "        _bupload.button_style = 'primary'\n",
    "        with open('temp.txt', \"w\") as out:\n",
    "            out.write(file_path)\n",
    "        print('>>> Ready to Upload!')\n",
    "            \n",
    "    elif extension == 'pdf':\n",
    "        print('>>> Selected file:',file_path.split('/')[-1:][0])\n",
    "        print('>>> Please wait a few seconds for convertion...')\n",
    "        txt = dummy.dummyTest(filename, file_path)\n",
    "        with open(filename[:-3] + 'txt', \"w\") as fp:\n",
    "            fp.write(txt)\n",
    "        print('>>> PDF file', filename , 'converted to .txt!')\n",
    "        \n",
    "    else:\n",
    "        _bupload.disabled = True\n",
    "        print('>>> File must be in .txt')\n",
    "\n",
    "es = Elasticsearch(['192.168.20.32:9200'])\n",
    "_convert = widgets.Button(\n",
    "                                   description='Converter',\n",
    "                                   icon='picture-o'\n",
    "                                   )      \n",
    "_browse = widgets.Button(\n",
    "                                   description='Browse',\n",
    "                                   icon='picture-o'\n",
    "                                   )        \n",
    "\n",
    "_bupload = widgets.Button(\n",
    "                                   description='Upload',\n",
    "                                   icon='upload'\n",
    "                                   )\n",
    "_bupload.disabled = True\n",
    "\n",
    "_convert.on_click(select_click)\n",
    "_browse.on_click(select_click)\n",
    "_bupload.on_click(upload_click)\n",
    "\n",
    "box = widgets.HBox([_convert, _browse, _bupload])\n",
    "display(box)\n",
    "display(HTML(\"<style>div.input {display:none;}</style>\"))  "
   ]
  },
  {
   "cell_type": "code",
   "execution_count": 9,
   "metadata": {},
   "outputs": [
    {
     "data": {
      "application/vnd.jupyter.widget-view+json": {
       "model_id": "93785daaf8a4456d8effd40995f77642",
       "version_major": 2,
       "version_minor": 0
      },
      "text/plain": [
       "VBox(children=(HBox(children=(Text(value='', description='Search Term(s): ', layout=Layout(width='1000px'), pl…"
      ]
     },
     "metadata": {},
     "output_type": "display_data"
    }
   ],
   "source": [
    "widgets.VBox(children=[widgetsBox, resultsBox])"
   ]
  },
  {
   "cell_type": "code",
   "execution_count": null,
   "metadata": {},
   "outputs": [],
   "source": []
  }
 ],
 "metadata": {
  "kernelspec": {
   "display_name": "Python 3",
   "language": "python",
   "name": "python3"
  },
  "language_info": {
   "codemirror_mode": {
    "name": "ipython",
    "version": 3
   },
   "file_extension": ".py",
   "mimetype": "text/x-python",
   "name": "python",
   "nbconvert_exporter": "python",
   "pygments_lexer": "ipython3",
   "version": "3.6.5"
  }
 },
 "nbformat": 4,
 "nbformat_minor": 2
}
