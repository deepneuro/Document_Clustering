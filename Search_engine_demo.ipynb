{
 "cells": [
  {
   "cell_type": "code",
   "execution_count": 35,
   "metadata": {},
   "outputs": [],
   "source": [
    "import pather\n",
    "import time\n",
    "import importlib\n",
    "import pdfparser\n",
    "import main\n",
    "import reader\n",
    "import preprocessing\n",
    "import clustering\n",
    "import searcher\n",
    "import summarizer"
   ]
  },
  {
   "cell_type": "code",
   "execution_count": 37,
   "metadata": {},
   "outputs": [],
   "source": [
    "search_engine = main.SearchEngine(r'C:\\Users\\sergiojesus\\Desktop\\Document_Clustering\\CV', lang='pt')"
   ]
  },
  {
   "cell_type": "code",
   "execution_count": 39,
   "metadata": {
    "scrolled": false
   },
   "outputs": [
    {
     "name": "stdout",
     "output_type": "stream",
     "text": [
      "Results:\n"
     ]
    },
    {
     "data": {
      "text/html": [
       "<style  type=\"text/css\" >\n",
       "</style>  \n",
       "<table id=\"T_b10d22d4_c568_11e8_bb35_c8d3ff3ccad2\" > \n",
       "<thead>    <tr> \n",
       "        <th class=\"blank level0\" ></th> \n",
       "        <th class=\"col_heading level0 col0\" >File</th> \n",
       "        <th class=\"col_heading level0 col1\" >Link</th> \n",
       "        <th class=\"col_heading level0 col2\" >Score</th> \n",
       "        <th class=\"col_heading level0 col3\" >Summary</th> \n",
       "        <th class=\"col_heading level0 col4\" >Results</th> \n",
       "    </tr></thead> \n",
       "<tbody>    <tr> \n",
       "        <th id=\"T_b10d22d4_c568_11e8_bb35_c8d3ff3ccad2level0_row0\" class=\"row_heading level0 row0\" >0</th> \n",
       "        <td id=\"T_b10d22d4_c568_11e8_bb35_c8d3ff3ccad2row0_col0\" class=\"data row0 col0\" >André Joaquim Barbosa de Oliveira_05_2017</td> \n",
       "        <td id=\"T_b10d22d4_c568_11e8_bb35_c8d3ff3ccad2row0_col1\" class=\"data row0 col1\" ><a target=\"_blank\" href=\"CV\\maio 2017\\André Joaquim Barbosa de Oliveira_05_2017.pdf\">CV\\maio 2017\\André Joaquim Barbosa de Oliveira_05_2017.pdf</a></td> \n",
       "        <td id=\"T_b10d22d4_c568_11e8_bb35_c8d3ff3ccad2row0_col2\" class=\"data row0 col2\" >1</td> \n",
       "        <td id=\"T_b10d22d4_c568_11e8_bb35_c8d3ff3ccad2row0_col3\" class=\"data row0 col3\" >De Março 2008 até Julho de 2012 ( 4 anos )\n",
       "5 anos   Diretor de serviços Eletrotécnicos e Manutenção Eletromecânica\n",
       "De Março a Novembro de 2013 ( 1 ano )\n",
       "Submissão de patente  portuguesa nº 103807 intitulada  “Sistema  de recolha de bolas de golfe totalmente autónomo ou remotamente operado”.</td> \n",
       "        <td id=\"T_b10d22d4_c568_11e8_bb35_c8d3ff3ccad2row0_col4\" class=\"data row0 col4\" >3 anos   Programador C/C++ linux\n",
       "Programador C/C++ na SDILAB   Investigação e desenvolvimento de software.\n",
       "Desenvolvimento adaptado aos serviços de venda e validação de titulos de transporte para rede metropolitana de LISBOA com uso de sistemas georeferenciados, programação de validadores AEP com leitura de cartões CALYPSO   linguagem de programação C/C++.</td> \n",
       "    </tr>    <tr> \n",
       "        <th id=\"T_b10d22d4_c568_11e8_bb35_c8d3ff3ccad2level0_row1\" class=\"row_heading level0 row1\" >1</th> \n",
       "        <td id=\"T_b10d22d4_c568_11e8_bb35_c8d3ff3ccad2row1_col0\" class=\"data row1 col0\" >Daniel José Silva Teixeira</td> \n",
       "        <td id=\"T_b10d22d4_c568_11e8_bb35_c8d3ff3ccad2row1_col1\" class=\"data row1 col1\" ><a target=\"_blank\" href=\"CV\\11-Novembro 2015\\Daniel José Silva Teixeira.pdf\">CV\\11-Novembro 2015\\Daniel José Silva Teixeira.pdf</a></td> \n",
       "        <td id=\"T_b10d22d4_c568_11e8_bb35_c8d3ff3ccad2row1_col2\" class=\"data row1 col2\" >0.957629</td> \n",
       "        <td id=\"T_b10d22d4_c568_11e8_bb35_c8d3ff3ccad2row1_col3\" class=\"data row1 col3\" >▪ Competências de programação (MatLab, MySql, C#, C++)\n",
       "Produção oral\n",
       "▪ Alguns conhecimentos de projeto de redes eletrónicas.\n",
       "Foi uma experiência pessoal enriquecedora.\n",
       "▪ Projeto de dispositivos médicos;\n",
       "Competências de organização  Boa capacidade de organização do trabalho\n",
       "Experiência de eramus em uma excelente faculdade na Turquia.\n",
       "Foi uma boa experiência pessoal.</td> \n",
       "        <td id=\"T_b10d22d4_c568_11e8_bb35_c8d3ff3ccad2row1_col4\" class=\"data row1 col4\" >▪ Competências de programação (MatLab, MySql, C#, C++)\n",
       "Maio de 2015 a atualidade  Programar uma aplicação de Re Rating na Vodafone em C/C++\n",
       "▪ Programação (C++, Fortran, Matlab);\n",
       "Desenvolvimento de Software em C/C++</td> \n",
       "    </tr>    <tr> \n",
       "        <th id=\"T_b10d22d4_c568_11e8_bb35_c8d3ff3ccad2level0_row2\" class=\"row_heading level0 row2\" >2</th> \n",
       "        <td id=\"T_b10d22d4_c568_11e8_bb35_c8d3ff3ccad2row2_col0\" class=\"data row2 col0\" >Rui Moreira</td> \n",
       "        <td id=\"T_b10d22d4_c568_11e8_bb35_c8d3ff3ccad2row2_col1\" class=\"data row2 col1\" ><a target=\"_blank\" href=\"CV\\10-outubro 2016\\Rui Moreira.pdf\">CV\\10-outubro 2016\\Rui Moreira.pdf</a></td> \n",
       "        <td id=\"T_b10d22d4_c568_11e8_bb35_c8d3ff3ccad2row2_col2\" class=\"data row2 col2\" >0.889691</td> \n",
       "        <td id=\"T_b10d22d4_c568_11e8_bb35_c8d3ff3ccad2row2_col3\" class=\"data row2 col3\" >Sector de atividade: Ensino / Formação técnico profissional nas áreas de profissional nas áreas de\n",
       "Responsável por angariação e orientação de formação em contexto de trabalho em empresas do ramo\n",
       "▪ Implementação de projeto técnico certificado de telecomunicações em edifícios de acordo com a regulamentação técnica em vigor da ANACOM e recomendações municipais</td> \n",
       "        <td id=\"T_b10d22d4_c568_11e8_bb35_c8d3ff3ccad2row2_col4\" class=\"data row2 col4\" >▪ Formação de programação em V. BASIC, C++, bases de dados mySQL e\n",
       "▪ Programação em diversas plataformas (Omnis, Java em diversas plataformas (Omnis, Java J2SE, C++, C#, .Net,\n",
       "▪ Programação de Computadores ( VBasic, C++, JAVA, SQL server, PHP,\n",
       "V. BASIC, C++, bases de dados mySQL e\n",
       "Tigerlogic Omnis, C++, C#, ASSEMBLY, HTML;</td> \n",
       "    </tr>    <tr> \n",
       "        <th id=\"T_b10d22d4_c568_11e8_bb35_c8d3ff3ccad2level0_row3\" class=\"row_heading level0 row3\" >3</th> \n",
       "        <td id=\"T_b10d22d4_c568_11e8_bb35_c8d3ff3ccad2row3_col0\" class=\"data row3 col0\" >Jorge Ferrão CV</td> \n",
       "        <td id=\"T_b10d22d4_c568_11e8_bb35_c8d3ff3ccad2row3_col1\" class=\"data row3 col1\" ><a target=\"_blank\" href=\"CV\\geral_2018\\Jorge Ferrão CV.pdf\">CV\\geral_2018\\Jorge Ferrão CV.pdf</a></td> \n",
       "        <td id=\"T_b10d22d4_c568_11e8_bb35_c8d3ff3ccad2row3_col2\" class=\"data row3 col2\" >0.716885</td> \n",
       "        <td id=\"T_b10d22d4_c568_11e8_bb35_c8d3ff3ccad2row3_col3\" class=\"data row3 col3\" >Tenho conhecimentos de programação em C/C++, Java, C#, Python e Javascript, e experiencia  com  computação  gráfica,  visão  por  computador,  desenvolvimento  de aplicações multiplataforma, programação de microcontroladores, desenvolvimento de jogos,  desenvolvimento  de  sistemas  de  informação,  aprendizagem  automática  e desenvolvimento web</td> \n",
       "        <td id=\"T_b10d22d4_c568_11e8_bb35_c8d3ff3ccad2row3_col4\" class=\"data row3 col4\" >Jogo de damas (2014)   Jogo de damas humano vs computador, com realidade aumentada.   Desenvolvimento de sistema de visão para deteção de tabuleiros de damas.   OpenCV, C++\n",
       "Software developer C++ / ROS para o robô autónomo WiiGo   Algoritmos localização e navegação autónoma   Ferramentas para visualização de dados\n",
       "Framework para criação de animação vetorial em Java.   Java, LibGDX, JNI, C++\n",
       "Tenho conhecimentos de programação em C/C++, Java, C#, Python e Javascript, e experiencia  com  computação  gráfica,  visão  por  computador,  desenvolvimento  de aplicações multiplataforma, programação de microcontroladores, desenvolvimento de jogos,  desenvolvimento  de  sistemas  de  informação,  aprendizagem  automática  e desenvolvimento web</td> \n",
       "    </tr>    <tr> \n",
       "        <th id=\"T_b10d22d4_c568_11e8_bb35_c8d3ff3ccad2level0_row4\" class=\"row_heading level0 row4\" >4</th> \n",
       "        <td id=\"T_b10d22d4_c568_11e8_bb35_c8d3ff3ccad2row4_col0\" class=\"data row4 col0\" >José Manuel Miranda Ferrão_12-2017</td> \n",
       "        <td id=\"T_b10d22d4_c568_11e8_bb35_c8d3ff3ccad2row4_col1\" class=\"data row4 col1\" ><a target=\"_blank\" href=\"CV\\Dezembro 2017\\José Manuel Miranda Ferrão_12-2017.pdf\">CV\\Dezembro 2017\\José Manuel Miranda Ferrão_12-2017.pdf</a></td> \n",
       "        <td id=\"T_b10d22d4_c568_11e8_bb35_c8d3ff3ccad2row4_col2\" class=\"data row4 col2\" >0.716885</td> \n",
       "        <td id=\"T_b10d22d4_c568_11e8_bb35_c8d3ff3ccad2row4_col3\" class=\"data row4 col3\" >Tenho conhecimentos de programação em C/C++, Java, C#, Python e Javascript, e experiencia  com  computação  gráfica,  visão  por  computador,  desenvolvimento  de aplicações multiplataforma, programação de microcontroladores, desenvolvimento de jogos,  desenvolvimento  de  sistemas  de  informação,  aprendizagem  automática  e desenvolvimento web</td> \n",
       "        <td id=\"T_b10d22d4_c568_11e8_bb35_c8d3ff3ccad2row4_col4\" class=\"data row4 col4\" >Jogo de damas (2014)   Jogo de damas humano vs computador, com realidade aumentada.   Desenvolvimento de sistema de visão para deteção de tabuleiros de damas.   OpenCV, C++\n",
       "Software developer C++ / ROS para o robô autónomo WiiGo   Algoritmos localização e navegação autónoma   Ferramentas para visualização de dados\n",
       "Framework para criação de animação vetorial em Java.   Java, LibGDX, JNI, C++\n",
       "Tenho conhecimentos de programação em C/C++, Java, C#, Python e Javascript, e experiencia  com  computação  gráfica,  visão  por  computador,  desenvolvimento  de aplicações multiplataforma, programação de microcontroladores, desenvolvimento de jogos,  desenvolvimento  de  sistemas  de  informação,  aprendizagem  automática  e desenvolvimento web</td> \n",
       "    </tr>    <tr> \n",
       "        <th id=\"T_b10d22d4_c568_11e8_bb35_c8d3ff3ccad2level0_row5\" class=\"row_heading level0 row5\" >5</th> \n",
       "        <td id=\"T_b10d22d4_c568_11e8_bb35_c8d3ff3ccad2row5_col0\" class=\"data row5 col0\" >Rui Alberto Correia Beloto_07_2017</td> \n",
       "        <td id=\"T_b10d22d4_c568_11e8_bb35_c8d3ff3ccad2row5_col1\" class=\"data row5 col1\" ><a target=\"_blank\" href=\"CV\\Química\\Rui Alberto Correia Beloto_07_2017.pdf\">CV\\Química\\Rui Alberto Correia Beloto_07_2017.pdf</a></td> \n",
       "        <td id=\"T_b10d22d4_c568_11e8_bb35_c8d3ff3ccad2row5_col2\" class=\"data row5 col2\" >0.701899</td> \n",
       "        <td id=\"T_b10d22d4_c568_11e8_bb35_c8d3ff3ccad2row5_col3\" class=\"data row5 col3\" >Conhecimentos básicos de linguagem de programação C#, C++ e\n",
       "Renováveis (Engenharia Química) no Instituto Superior de Engenharia do Porto (conclusão prevista a Junho 2018).\n",
       "Superior de Engenharia do Porto.\n",
       "Data : 25/04/2017\n",
       "Conhecimentos intermédios em Francês e Espanhol.\n",
       "Excelente nível de conhecimentos de Inglês   conversação, leitura e escrita.</td> \n",
       "        <td id=\"T_b10d22d4_c568_11e8_bb35_c8d3ff3ccad2row5_col4\" class=\"data row5 col4\" >Conhecimentos básicos de linguagem de programação C#, C++ e</td> \n",
       "    </tr>    <tr> \n",
       "        <th id=\"T_b10d22d4_c568_11e8_bb35_c8d3ff3ccad2level0_row6\" class=\"row_heading level0 row6\" >6</th> \n",
       "        <td id=\"T_b10d22d4_c568_11e8_bb35_c8d3ff3ccad2row6_col0\" class=\"data row6 col0\" >Catarina Acciaioli Mendes Horta Santos</td> \n",
       "        <td id=\"T_b10d22d4_c568_11e8_bb35_c8d3ff3ccad2row6_col1\" class=\"data row6 col1\" ><a target=\"_blank\" href=\"CV\\9-setembro 2016\\Catarina Acciaioli Mendes Horta Santos.pdf\">CV\\9-setembro 2016\\Catarina Acciaioli Mendes Horta Santos.pdf</a></td> \n",
       "        <td id=\"T_b10d22d4_c568_11e8_bb35_c8d3ff3ccad2row6_col2\" class=\"data row6 col2\" >0.675217</td> \n",
       "        <td id=\"T_b10d22d4_c568_11e8_bb35_c8d3ff3ccad2row6_col3\" class=\"data row6 col3\" >Dissertação de mestrado: KhronoSim   Desenvolvimento de Plataforma de Testes para sistemas críticos (Dissertação de mestrado)\n",
       "Implementação de algoritmos de sincronização para a comunicação entre a plataforma de testes e  emulador\n",
       "INFORMAÇÃO PESSOAL  Catarina Acciaioli Mendes Horta Santos\n",
       "B1.1   Curso de 30 horas em Portugal</td> \n",
       "        <td id=\"T_b10d22d4_c568_11e8_bb35_c8d3ff3ccad2row6_col4\" class=\"data row6 col4\" >▪  Optimização de algoritmos em C++ no âmbito do projecto Square Kilometre Array\n",
       "Competência digital  Conhecimento das linguagens de programação: C, C++, Matlab, Android, Java, Assembly, SQL,\n",
       "▪  Tecnologias utilizadas: Python, C++, QtCreator, Debian, SVN</td> \n",
       "    </tr>    <tr> \n",
       "        <th id=\"T_b10d22d4_c568_11e8_bb35_c8d3ff3ccad2level0_row7\" class=\"row_heading level0 row7\" >7</th> \n",
       "        <td id=\"T_b10d22d4_c568_11e8_bb35_c8d3ff3ccad2row7_col0\" class=\"data row7 col0\" >Nelson Queirós_04_2017</td> \n",
       "        <td id=\"T_b10d22d4_c568_11e8_bb35_c8d3ff3ccad2row7_col1\" class=\"data row7 col1\" ><a target=\"_blank\" href=\"CV\\IT\\Nelson Queirós_04_2017.pdf\">CV\\IT\\Nelson Queirós_04_2017.pdf</a></td> \n",
       "        <td id=\"T_b10d22d4_c568_11e8_bb35_c8d3ff3ccad2row7_col2\" class=\"data row7 col2\" >0.647593</td> \n",
       "        <td id=\"T_b10d22d4_c568_11e8_bb35_c8d3ff3ccad2row7_col3\" class=\"data row7 col3\" >. Implementa¸c˜ao de um algoritmo gen´erico para calcular a actividade de diferentes org˜aos em fun¸c˜ao do tempo, numa Cintigraﬁa Hepatobiliar, de forma a poder estudar a zona disfuncional do f´ıgado, utilizando ferramentas como ITK SNAP, MicroView, Paraview, Visual Studio e</td> \n",
       "        <td id=\"T_b10d22d4_c568_11e8_bb35_c8d3ff3ccad2row7_col4\" class=\"data row7 col4\" >. Projecto realizado com Hardware e Software utilizando o microprocessador arduino e progra ma¸c˜ao com a plataforma C/C++, de forma a controlar os acessos de uma Unidade de Sa´ude\n",
       "C, C++, Interface Web(HTML e XHTML, CSS, Javascript, Ajax), PHP, MySql e XML.\n",
       "Latex, e programa¸c˜ao com a linguagem C++;\n",
       "C/C++;\n",
       ". Desenvolvimento de uma aplica¸c˜ao inform´atica em linguagem C++ para gerir as aplica¸c˜oes de um Banco, como abertura e fecho de contas de clientes, dep´ositos e levantamentos de dinheiro, pedidos de emprestimo, visualiza¸c˜ao de saldo e de extracto banc´ario;</td> \n",
       "    </tr>    <tr> \n",
       "        <th id=\"T_b10d22d4_c568_11e8_bb35_c8d3ff3ccad2level0_row8\" class=\"row_heading level0 row8\" >8</th> \n",
       "        <td id=\"T_b10d22d4_c568_11e8_bb35_c8d3ff3ccad2row8_col0\" class=\"data row8 col0\" >Luis Filipe Macedo Martins</td> \n",
       "        <td id=\"T_b10d22d4_c568_11e8_bb35_c8d3ff3ccad2row8_col1\" class=\"data row8 col1\" ><a target=\"_blank\" href=\"CV\\11-novembro 2016\\Luis Filipe Macedo Martins.pdf\">CV\\11-novembro 2016\\Luis Filipe Macedo Martins.pdf</a></td> \n",
       "        <td id=\"T_b10d22d4_c568_11e8_bb35_c8d3ff3ccad2row8_col2\" class=\"data row8 col2\" >0.615906</td> \n",
       "        <td id=\"T_b10d22d4_c568_11e8_bb35_c8d3ff3ccad2row8_col3\" class=\"data row8 col3\" >Competências de comunicação\n",
       "▪Criação e Compreensão de Bases de dados;\n",
       "▪Criação e Compreensão de Sistemas de informação;\n",
       "INFORMAÇÃO PESSOAL Luis Filipe Macedo Martins\n",
       "▪Criação total de websites desde o design do mesmo á sua programação utilizando HTML5 + CSS3\n",
       "▪Criação de Sistemas de Informação;\n",
       "Licenciatura em Comunicação e Multimédia</td> \n",
       "        <td id=\"T_b10d22d4_c568_11e8_bb35_c8d3ff3ccad2row8_col4\" class=\"data row8 col4\" >Maior domínio: HTML5, CSS3, BOOTSTRAP. intermédias: C++, C# e PHP\n",
       "▪Programação utilizando C++, C# e também HTML + CSS;</td> \n",
       "    </tr>    <tr> \n",
       "        <th id=\"T_b10d22d4_c568_11e8_bb35_c8d3ff3ccad2level0_row9\" class=\"row_heading level0 row9\" >9</th> \n",
       "        <td id=\"T_b10d22d4_c568_11e8_bb35_c8d3ff3ccad2row9_col0\" class=\"data row9 col0\" >Andreia Silva</td> \n",
       "        <td id=\"T_b10d22d4_c568_11e8_bb35_c8d3ff3ccad2row9_col1\" class=\"data row9 col1\" ><a target=\"_blank\" href=\"CV\\11-novembro 2016\\Andreia Silva.pdf\">CV\\11-novembro 2016\\Andreia Silva.pdf</a></td> \n",
       "        <td id=\"T_b10d22d4_c568_11e8_bb35_c8d3ff3ccad2row9_col2\" class=\"data row9 col2\" >0.612844</td> \n",
       "        <td id=\"T_b10d22d4_c568_11e8_bb35_c8d3ff3ccad2row9_col3\" class=\"data row9 col3\" >Formação\n",
       "Liderança e Trabalho em Equipa;\n",
       "Curso de Formação inicial de Formadores para obtenção de CAP;\n",
       "Colaborador NOS (Gestão: sala cerca 100 pessoas, equipa cerca 20 pessoas, reclamações tratadas cerca 20 por dia/pessoa, atendimento ao cliente, helpdesk e melhoria contínua);\n",
       "PowerPoint e Acess; Experiência em Linguagens de Programação: C/C++, SQL e linguagens web</td> \n",
       "        <td id=\"T_b10d22d4_c568_11e8_bb35_c8d3ff3ccad2row9_col4\" class=\"data row9 col4\" >PowerPoint e Acess; Experiência em Linguagens de Programação: C/C++, SQL e linguagens web</td> \n",
       "    </tr></tbody> \n",
       "</table> "
      ],
      "text/plain": [
       "<pandas.io.formats.style.Styler at 0x1ea0074a4e0>"
      ]
     },
     "metadata": {},
     "output_type": "execute_result"
    },
    {
     "name": "stdout",
     "output_type": "stream",
     "text": [
      "Wall time: 259 ms\n"
     ]
    }
   ],
   "source": [
    "%time results = search_engine.run_search(['C++'], num_returns=10, summary=True)"
   ]
  },
  {
   "cell_type": "code",
   "execution_count": null,
   "metadata": {},
   "outputs": [],
   "source": []
  }
 ],
 "metadata": {
  "kernelspec": {
   "display_name": "Python 3",
   "language": "python",
   "name": "python3"
  },
  "language_info": {
   "codemirror_mode": {
    "name": "ipython",
    "version": 3
   },
   "file_extension": ".py",
   "mimetype": "text/x-python",
   "name": "python",
   "nbconvert_exporter": "python",
   "pygments_lexer": "ipython3",
   "version": "3.6.5"
  }
 },
 "nbformat": 4,
 "nbformat_minor": 2
}
