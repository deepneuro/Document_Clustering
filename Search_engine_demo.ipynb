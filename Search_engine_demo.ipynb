{
 "cells": [
  {
   "cell_type": "code",
   "execution_count": 1,
   "metadata": {},
   "outputs": [],
   "source": [
    "import warnings\n",
    "warnings.filterwarnings('ignore')\n",
    "import main"
   ]
  },
  {
   "cell_type": "code",
   "execution_count": 2,
   "metadata": {},
   "outputs": [],
   "source": [
    "search_engine_2 = main.SearchEngineElasticSearch(init_path=r'C:\\Users\\sergiojesus\\Desktop\\Document_Clustering\\CV', index_name='cv')"
   ]
  },
  {
   "cell_type": "code",
   "execution_count": 4,
   "metadata": {
    "scrolled": false
   },
   "outputs": [
    {
     "name": "stdout",
     "output_type": "stream",
     "text": [
      "Results:\n"
     ]
    },
    {
     "data": {
      "text/html": [
       "<style  type=\"text/css\" >\n",
       "</style>  \n",
       "<table id=\"T_87e6b7ca_1330_11e9_b22f_c8d3ff3ccad2\" > \n",
       "<thead>    <tr> \n",
       "        <th class=\"blank level0\" ></th> \n",
       "        <th class=\"col_heading level0 col0\" >File</th> \n",
       "        <th class=\"col_heading level0 col1\" >Link</th> \n",
       "        <th class=\"col_heading level0 col2\" >Score</th> \n",
       "    </tr></thead> \n",
       "<tbody>    <tr> \n",
       "        <th id=\"T_87e6b7ca_1330_11e9_b22f_c8d3ff3ccad2level0_row0\" class=\"row_heading level0 row0\" >0</th> \n",
       "        <td id=\"T_87e6b7ca_1330_11e9_b22f_c8d3ff3ccad2row0_col0\" class=\"data row0 col0\" >David Martínez Moll_10-2017</td> \n",
       "        <td id=\"T_87e6b7ca_1330_11e9_b22f_c8d3ff3ccad2row0_col1\" class=\"data row0 col1\" ><a target=\"_blank\" href=\"cvs/David Martínez Moll_10-2017.pdf\">cvs/David Martínez Moll_10-2017.pdf</a></td> \n",
       "        <td id=\"T_87e6b7ca_1330_11e9_b22f_c8d3ff3ccad2row0_col2\" class=\"data row0 col2\" >4.4541</td> \n",
       "    </tr>    <tr> \n",
       "        <th id=\"T_87e6b7ca_1330_11e9_b22f_c8d3ff3ccad2level0_row1\" class=\"row_heading level0 row1\" >1</th> \n",
       "        <td id=\"T_87e6b7ca_1330_11e9_b22f_c8d3ff3ccad2row1_col0\" class=\"data row1 col0\" >Tiago Oliveira</td> \n",
       "        <td id=\"T_87e6b7ca_1330_11e9_b22f_c8d3ff3ccad2row1_col1\" class=\"data row1 col1\" ><a target=\"_blank\" href=\"cvs/Tiago Oliveira.pdf\">cvs/Tiago Oliveira.pdf</a></td> \n",
       "        <td id=\"T_87e6b7ca_1330_11e9_b22f_c8d3ff3ccad2row1_col2\" class=\"data row1 col2\" >4.4492</td> \n",
       "    </tr>    <tr> \n",
       "        <th id=\"T_87e6b7ca_1330_11e9_b22f_c8d3ff3ccad2level0_row2\" class=\"row_heading level0 row2\" >2</th> \n",
       "        <td id=\"T_87e6b7ca_1330_11e9_b22f_c8d3ff3ccad2row2_col0\" class=\"data row2 col0\" >Florentino Gutierrez Prieto</td> \n",
       "        <td id=\"T_87e6b7ca_1330_11e9_b22f_c8d3ff3ccad2row2_col1\" class=\"data row2 col1\" ><a target=\"_blank\" href=\"cvs/Florentino Gutierrez Prieto.pdf\">cvs/Florentino Gutierrez Prieto.pdf</a></td> \n",
       "        <td id=\"T_87e6b7ca_1330_11e9_b22f_c8d3ff3ccad2row2_col2\" class=\"data row2 col2\" >4.43541</td> \n",
       "    </tr>    <tr> \n",
       "        <th id=\"T_87e6b7ca_1330_11e9_b22f_c8d3ff3ccad2level0_row3\" class=\"row_heading level0 row3\" >3</th> \n",
       "        <td id=\"T_87e6b7ca_1330_11e9_b22f_c8d3ff3ccad2row3_col0\" class=\"data row3 col0\" >Ashokan Gopal</td> \n",
       "        <td id=\"T_87e6b7ca_1330_11e9_b22f_c8d3ff3ccad2row3_col1\" class=\"data row3 col1\" ><a target=\"_blank\" href=\"cvs/Ashokan Gopal.pdf\">cvs/Ashokan Gopal.pdf</a></td> \n",
       "        <td id=\"T_87e6b7ca_1330_11e9_b22f_c8d3ff3ccad2row3_col2\" class=\"data row3 col2\" >4.43486</td> \n",
       "    </tr>    <tr> \n",
       "        <th id=\"T_87e6b7ca_1330_11e9_b22f_c8d3ff3ccad2level0_row4\" class=\"row_heading level0 row4\" >4</th> \n",
       "        <td id=\"T_87e6b7ca_1330_11e9_b22f_c8d3ff3ccad2row4_col0\" class=\"data row4 col0\" >Gaspar Quelhas Lima Tameeris</td> \n",
       "        <td id=\"T_87e6b7ca_1330_11e9_b22f_c8d3ff3ccad2row4_col1\" class=\"data row4 col1\" ><a target=\"_blank\" href=\"cvs/Gaspar Quelhas Lima Tameeris.pdf\">cvs/Gaspar Quelhas Lima Tameeris.pdf</a></td> \n",
       "        <td id=\"T_87e6b7ca_1330_11e9_b22f_c8d3ff3ccad2row4_col2\" class=\"data row4 col2\" >4.432</td> \n",
       "    </tr>    <tr> \n",
       "        <th id=\"T_87e6b7ca_1330_11e9_b22f_c8d3ff3ccad2level0_row5\" class=\"row_heading level0 row5\" >5</th> \n",
       "        <td id=\"T_87e6b7ca_1330_11e9_b22f_c8d3ff3ccad2row5_col0\" class=\"data row5 col0\" >Carlos Jorge Laruça_03_2017</td> \n",
       "        <td id=\"T_87e6b7ca_1330_11e9_b22f_c8d3ff3ccad2row5_col1\" class=\"data row5 col1\" ><a target=\"_blank\" href=\"cvs/Carlos Jorge Laruça_03_2017.pdf\">cvs/Carlos Jorge Laruça_03_2017.pdf</a></td> \n",
       "        <td id=\"T_87e6b7ca_1330_11e9_b22f_c8d3ff3ccad2row5_col2\" class=\"data row5 col2\" >4.41694</td> \n",
       "    </tr>    <tr> \n",
       "        <th id=\"T_87e6b7ca_1330_11e9_b22f_c8d3ff3ccad2level0_row6\" class=\"row_heading level0 row6\" >6</th> \n",
       "        <td id=\"T_87e6b7ca_1330_11e9_b22f_c8d3ff3ccad2row6_col0\" class=\"data row6 col0\" >Nuno Miguel da Silva_03_2017</td> \n",
       "        <td id=\"T_87e6b7ca_1330_11e9_b22f_c8d3ff3ccad2row6_col1\" class=\"data row6 col1\" ><a target=\"_blank\" href=\"cvs/Nuno Miguel da Silva_03_2017.pdf\">cvs/Nuno Miguel da Silva_03_2017.pdf</a></td> \n",
       "        <td id=\"T_87e6b7ca_1330_11e9_b22f_c8d3ff3ccad2row6_col2\" class=\"data row6 col2\" >4.41294</td> \n",
       "    </tr>    <tr> \n",
       "        <th id=\"T_87e6b7ca_1330_11e9_b22f_c8d3ff3ccad2level0_row7\" class=\"row_heading level0 row7\" >7</th> \n",
       "        <td id=\"T_87e6b7ca_1330_11e9_b22f_c8d3ff3ccad2row7_col0\" class=\"data row7 col0\" >Luís Almeida</td> \n",
       "        <td id=\"T_87e6b7ca_1330_11e9_b22f_c8d3ff3ccad2row7_col1\" class=\"data row7 col1\" ><a target=\"_blank\" href=\"cvs/Luís Almeida.pdf\">cvs/Luís Almeida.pdf</a></td> \n",
       "        <td id=\"T_87e6b7ca_1330_11e9_b22f_c8d3ff3ccad2row7_col2\" class=\"data row7 col2\" >4.41193</td> \n",
       "    </tr>    <tr> \n",
       "        <th id=\"T_87e6b7ca_1330_11e9_b22f_c8d3ff3ccad2level0_row8\" class=\"row_heading level0 row8\" >8</th> \n",
       "        <td id=\"T_87e6b7ca_1330_11e9_b22f_c8d3ff3ccad2row8_col0\" class=\"data row8 col0\" >Nuno Ferreira_03_2017</td> \n",
       "        <td id=\"T_87e6b7ca_1330_11e9_b22f_c8d3ff3ccad2row8_col1\" class=\"data row8 col1\" ><a target=\"_blank\" href=\"cvs/Nuno Ferreira_03_2017.pdf\">cvs/Nuno Ferreira_03_2017.pdf</a></td> \n",
       "        <td id=\"T_87e6b7ca_1330_11e9_b22f_c8d3ff3ccad2row8_col2\" class=\"data row8 col2\" >4.40515</td> \n",
       "    </tr>    <tr> \n",
       "        <th id=\"T_87e6b7ca_1330_11e9_b22f_c8d3ff3ccad2level0_row9\" class=\"row_heading level0 row9\" >9</th> \n",
       "        <td id=\"T_87e6b7ca_1330_11e9_b22f_c8d3ff3ccad2row9_col0\" class=\"data row9 col0\" >José Júlio Ribeiro Rodrigues_03_2017</td> \n",
       "        <td id=\"T_87e6b7ca_1330_11e9_b22f_c8d3ff3ccad2row9_col1\" class=\"data row9 col1\" ><a target=\"_blank\" href=\"cvs/José Júlio Ribeiro Rodrigues_03_2017.pdf\">cvs/José Júlio Ribeiro Rodrigues_03_2017.pdf</a></td> \n",
       "        <td id=\"T_87e6b7ca_1330_11e9_b22f_c8d3ff3ccad2row9_col2\" class=\"data row9 col2\" >4.39837</td> \n",
       "    </tr></tbody> \n",
       "</table> "
      ],
      "text/plain": [
       "<pandas.io.formats.style.Styler at 0x1fe4cea1128>"
      ]
     },
     "metadata": {},
     "output_type": "display_data"
    },
    {
     "name": "stdout",
     "output_type": "stream",
     "text": [
      "Wall time: 38.9 ms\n"
     ]
    }
   ],
   "source": [
    "% time results = search_engine_2.query_database('design', summary=False, max_size=10)"
   ]
  },
  {
   "cell_type": "code",
   "execution_count": null,
   "metadata": {},
   "outputs": [],
   "source": []
  }
 ],
 "metadata": {
  "kernelspec": {
   "display_name": "Python 3",
   "language": "python",
   "name": "python3"
  },
  "language_info": {
   "codemirror_mode": {
    "name": "ipython",
    "version": 3
   },
   "file_extension": ".py",
   "mimetype": "text/x-python",
   "name": "python",
   "nbconvert_exporter": "python",
   "pygments_lexer": "ipython3",
   "version": "3.6.5"
  }
 },
 "nbformat": 4,
 "nbformat_minor": 2
}
