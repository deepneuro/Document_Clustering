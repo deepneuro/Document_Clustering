{
 "cells": [
  {
   "cell_type": "code",
   "execution_count": 1,
   "metadata": {},
   "outputs": [],
   "source": [
    "import warnings\n",
    "warnings.filterwarnings('ignore')\n",
    "import main\n",
    "import ipywidgets as widgets"
   ]
  },
  {
   "cell_type": "code",
   "execution_count": 2,
   "metadata": {},
   "outputs": [],
   "source": [
    "search_engine_2 = main.SearchEngineElasticSearch(init_path=r'C:\\Users\\sergiojesus\\Desktop\\Document_Clustering\\CV', index_name='cv')"
   ]
  },
  {
   "cell_type": "code",
   "execution_count": 3,
   "metadata": {
    "scrolled": false
   },
   "outputs": [],
   "source": [
    "style = {'description_width': 'initial'}\n",
    "textWidget = widgets.Text(\n",
    "                          placeholder='Search',\n",
    "                          description='Search Term(s): ',\n",
    "                          disabled=False,\n",
    "                          style=style,\n",
    "                          layout=widgets.Layout(width='1000px')\n",
    "                         )\n",
    "\n",
    "checkboxWidget = widgets.Checkbox(\n",
    "                                  value=False, \n",
    "                                  description='Summary',\n",
    "                                  disabled=False,\n",
    "                                 )\n",
    "results_output = widgets.Output()\n",
    "\n",
    "def general_function(widget):\n",
    "    if textWidget.value != '':\n",
    "        results_output.clear_output()\n",
    "        results = search_engine_2.query_database(textWidget.value, summary=checkboxWidget.value, max_size=10)\n",
    "        with results_output:\n",
    "            display(results[1])\n",
    "\n",
    "\n",
    "textWidget.on_submit(general_function)\n",
    "items = [textWidget, checkboxWidget]\n",
    "boxLayout = widgets.Layout(flex_flow='line')\n",
    "widgetsBox = widgets.HBox(children=items, layout=boxLayout)\n",
    "resultsBox = widgets.HBox(children=[results_output])"
   ]
  },
  {
   "cell_type": "code",
   "execution_count": 4,
   "metadata": {},
   "outputs": [
    {
     "data": {
      "application/vnd.jupyter.widget-view+json": {
       "model_id": "79b56357e6b447b2a0e96493ccd95faf",
       "version_major": 2,
       "version_minor": 0
      },
      "text/plain": [
       "VBox(children=(HBox(children=(Text(value='', description='Search Term(s): ', layout=Layout(width='1000px'), pl…"
      ]
     },
     "metadata": {},
     "output_type": "display_data"
    }
   ],
   "source": [
    "widgets.VBox(children=[widgetsBox, resultsBox])"
   ]
  },
  {
   "cell_type": "code",
   "execution_count": null,
   "metadata": {},
   "outputs": [],
   "source": []
  }
 ],
 "metadata": {
  "kernelspec": {
   "display_name": "Python 3",
   "language": "python",
   "name": "python3"
  },
  "language_info": {
   "codemirror_mode": {
    "name": "ipython",
    "version": 3
   },
   "file_extension": ".py",
   "mimetype": "text/x-python",
   "name": "python",
   "nbconvert_exporter": "python",
   "pygments_lexer": "ipython3",
   "version": "3.6.5"
  }
 },
 "nbformat": 4,
 "nbformat_minor": 2
}
