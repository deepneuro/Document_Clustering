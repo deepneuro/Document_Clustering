{
 "cells": [
  {
   "cell_type": "code",
   "execution_count": 7,
   "metadata": {},
   "outputs": [],
   "source": [
    "import pather\n",
    "import time\n",
    "import importlib\n",
    "import pdfparser\n",
    "import main\n",
    "import reader\n",
    "import preprocessing\n",
    "import clustering\n",
    "import searcher\n",
    "import summarizer"
   ]
  },
  {
   "cell_type": "code",
   "execution_count": 10,
   "metadata": {
    "scrolled": true
   },
   "outputs": [
    {
     "data": {
      "text/plain": [
       "<module 'summarizer' from 'C:\\\\Users\\\\sergiojesus\\\\Desktop\\\\Document_Clustering\\\\summarizer.py'>"
      ]
     },
     "execution_count": 10,
     "metadata": {},
     "output_type": "execute_result"
    }
   ],
   "source": [
    "importlib.reload(main)\n",
    "importlib.reload(pdfparser)\n",
    "importlib.reload(pather)\n",
    "importlib.reload(reader)\n",
    "importlib.reload(preprocessing)\n",
    "importlib.reload(clustering)\n",
    "importlib.reload(searcher)\n",
    "importlib.reload(summarizer)"
   ]
  },
  {
   "cell_type": "code",
   "execution_count": 11,
   "metadata": {},
   "outputs": [],
   "source": [
    "j = main.SearchEngine(r'C:\\Users\\sergiojesus\\Desktop\\Document_Clustering\\CV', lang='pt')"
   ]
  },
  {
   "cell_type": "code",
   "execution_count": 30,
   "metadata": {
    "scrolled": false
   },
   "outputs": [
    {
     "name": "stdout",
     "output_type": "stream",
     "text": [
      "Results:\n"
     ]
    },
    {
     "data": {
      "text/html": [
       "<style  type=\"text/css\" >\n",
       "</style>  \n",
       "<table id=\"T_4e275b54_c331_11e8_97bb_c8d3ff3ccad2\" > \n",
       "<thead>    <tr> \n",
       "        <th class=\"blank level0\" ></th> \n",
       "        <th class=\"col_heading level0 col0\" >File</th> \n",
       "        <th class=\"col_heading level0 col1\" >Link</th> \n",
       "        <th class=\"col_heading level0 col2\" >Score</th> \n",
       "        <th class=\"col_heading level0 col3\" >Summary</th> \n",
       "    </tr></thead> \n",
       "<tbody>    <tr> \n",
       "        <th id=\"T_4e275b54_c331_11e8_97bb_c8d3ff3ccad2level0_row0\" class=\"row_heading level0 row0\" >0</th> \n",
       "        <td id=\"T_4e275b54_c331_11e8_97bb_c8d3ff3ccad2row0_col0\" class=\"data row0 col0\" >Diogo Rafael David Barbosa_06_2017</td> \n",
       "        <td id=\"T_4e275b54_c331_11e8_97bb_c8d3ff3ccad2row0_col1\" class=\"data row0 col1\" ><a target=\"_blank\" href=\"CV\\Eletrotécnico\\Diogo Rafael David Barbosa_06_2017.pdf\">CV\\Eletrotécnico\\Diogo Rafael David Barbosa_06_2017.pdf</a></td> \n",
       "        <td id=\"T_4e275b54_c331_11e8_97bb_c8d3ff3ccad2row0_col2\" class=\"data row0 col2\" >1</td> \n",
       "        <td id=\"T_4e275b54_c331_11e8_97bb_c8d3ff3ccad2row0_col3\" class=\"data row0 col3\" >▪ Desenvolvi uma aplicação para dispositivos iOS (iPhone, iPad ou iPod Touch) para cálculo de atenuação de instalações de fibra óptica FTTH, arquivo de instalações, leitura de dados de instalações arquivadas na base de dados e envio de informação por email, no âmbito da unidade curricular de Projeto/Estágio do Instituto Superior de Engenharia do Porto, desenvolvido na empresa Valetel, lda.</td> \n",
       "    </tr>    <tr> \n",
       "        <th id=\"T_4e275b54_c331_11e8_97bb_c8d3ff3ccad2level0_row1\" class=\"row_heading level0 row1\" >1</th> \n",
       "        <td id=\"T_4e275b54_c331_11e8_97bb_c8d3ff3ccad2row1_col0\" class=\"data row1 col0\" >Joao Carlos Torrejon_06_2017</td> \n",
       "        <td id=\"T_4e275b54_c331_11e8_97bb_c8d3ff3ccad2row1_col1\" class=\"data row1 col1\" ><a target=\"_blank\" href=\"CV\\junho 2017\\Joao Carlos Torrejon_06_2017.pdf\">CV\\junho 2017\\Joao Carlos Torrejon_06_2017.pdf</a></td> \n",
       "        <td id=\"T_4e275b54_c331_11e8_97bb_c8d3ff3ccad2row1_col2\" class=\"data row1 col2\" >0.946453</td> \n",
       "        <td id=\"T_4e275b54_c331_11e8_97bb_c8d3ff3ccad2row1_col3\" class=\"data row1 col3\" >Técnico especialista de assistência técnica à indústria.\n",
       "Engenheiro Técnico Eléctrico de Testes Estruturais\n",
       "Técnico Electrónica Industrial   Automação e Robótica NÍVEL IV\n",
       "Engenheiro Técnico formado na área de Energia orientado para os resultados, especializado na resolução de problemas, na eficiência dos processos e na manutenção quotidiana.\n",
       "Técnico de Eletrónica Industrial</td> \n",
       "    </tr>    <tr> \n",
       "        <th id=\"T_4e275b54_c331_11e8_97bb_c8d3ff3ccad2level0_row2\" class=\"row_heading level0 row2\" >2</th> \n",
       "        <td id=\"T_4e275b54_c331_11e8_97bb_c8d3ff3ccad2row2_col0\" class=\"data row2 col0\" >Eduardo Moreira_05_2017</td> \n",
       "        <td id=\"T_4e275b54_c331_11e8_97bb_c8d3ff3ccad2row2_col1\" class=\"data row2 col1\" ><a target=\"_blank\" href=\"CV\\maio 2017\\Eduardo Moreira_05_2017.pdf\">CV\\maio 2017\\Eduardo Moreira_05_2017.pdf</a></td> \n",
       "        <td id=\"T_4e275b54_c331_11e8_97bb_c8d3ff3ccad2row2_col2\" class=\"data row2 col2\" >0.839077</td> \n",
       "        <td id=\"T_4e275b54_c331_11e8_97bb_c8d3ff3ccad2row2_col3\" class=\"data row2 col3\" >Domínio de linguagem de programação utilizada nos autómatos Siemens utilizando o TIA Portal\n",
       "Boa capacidade na montagem de sistemas de energia\n",
       "Conhecimentos de programação com TIA Portal e SoMachine\n",
       "Apresentação dos diferentes métodos funcionais, integrados no sistema operativo do autómato set 10 nov 16  Licenciatura em Engenharia Eletrotécnica e de Computadores</td> \n",
       "    </tr>    <tr> \n",
       "        <th id=\"T_4e275b54_c331_11e8_97bb_c8d3ff3ccad2level0_row3\" class=\"row_heading level0 row3\" >3</th> \n",
       "        <td id=\"T_4e275b54_c331_11e8_97bb_c8d3ff3ccad2row3_col0\" class=\"data row3 col0\" >Eduardo Moreira_06_2017</td> \n",
       "        <td id=\"T_4e275b54_c331_11e8_97bb_c8d3ff3ccad2row3_col1\" class=\"data row3 col1\" ><a target=\"_blank\" href=\"CV\\Eletrotécnico\\Eduardo Moreira_06_2017.pdf\">CV\\Eletrotécnico\\Eduardo Moreira_06_2017.pdf</a></td> \n",
       "        <td id=\"T_4e275b54_c331_11e8_97bb_c8d3ff3ccad2row3_col2\" class=\"data row3 col2\" >0.839077</td> \n",
       "        <td id=\"T_4e275b54_c331_11e8_97bb_c8d3ff3ccad2row3_col3\" class=\"data row3 col3\" >Domínio de linguagem de programação utilizada nos autómatos Siemens utilizando o TIA Portal\n",
       "Boa capacidade na montagem de sistemas de energia\n",
       "Conhecimentos de programação com TIA Portal e SoMachine\n",
       "Apresentação dos diferentes métodos funcionais, integrados no sistema operativo do autómato set 10 nov 16  Licenciatura em Engenharia Eletrotécnica e de Computadores</td> \n",
       "    </tr>    <tr> \n",
       "        <th id=\"T_4e275b54_c331_11e8_97bb_c8d3ff3ccad2level0_row4\" class=\"row_heading level0 row4\" >4</th> \n",
       "        <td id=\"T_4e275b54_c331_11e8_97bb_c8d3ff3ccad2row4_col0\" class=\"data row4 col0\" >Rafael António Duarte Correia</td> \n",
       "        <td id=\"T_4e275b54_c331_11e8_97bb_c8d3ff3ccad2row4_col1\" class=\"data row4 col1\" ><a target=\"_blank\" href=\"CV\\10-outubro 2016\\Rafael António Duarte Correia.pdf\">CV\\10-outubro 2016\\Rafael António Duarte Correia.pdf</a></td> \n",
       "        <td id=\"T_4e275b54_c331_11e8_97bb_c8d3ff3ccad2row4_col2\" class=\"data row4 col2\" >0.824045</td> \n",
       "        <td id=\"T_4e275b54_c331_11e8_97bb_c8d3ff3ccad2row4_col3\" class=\"data row4 col3\" >Competências de comunicação  Capacidades de comunicação e de espírito de equipa desenvolvidas através de atividades como engenheiro no projeto de máquinas, docente universitário, coordenador e docente de uma escola de música, organizador de estágios de verão para jovens músicos, bem como na atividade como músico amador, na realização de trabalhos académicos e na participação em algumas competições nacionais de matemática como o \"mat12\" organizado pela Universidade de Aveiro.</td> \n",
       "    </tr>    <tr> \n",
       "        <th id=\"T_4e275b54_c331_11e8_97bb_c8d3ff3ccad2level0_row5\" class=\"row_heading level0 row5\" >5</th> \n",
       "        <td id=\"T_4e275b54_c331_11e8_97bb_c8d3ff3ccad2row5_col0\" class=\"data row5 col0\" >Cristiano Miguel Oliveira Santos</td> \n",
       "        <td id=\"T_4e275b54_c331_11e8_97bb_c8d3ff3ccad2row5_col1\" class=\"data row5 col1\" ><a target=\"_blank\" href=\"CV\\08-agosto 2016\\Cristiano Miguel Oliveira Santos.pdf\">CV\\08-agosto 2016\\Cristiano Miguel Oliveira Santos.pdf</a></td> \n",
       "        <td id=\"T_4e275b54_c331_11e8_97bb_c8d3ff3ccad2row5_col2\" class=\"data row5 col2\" >0.785386</td> \n",
       "        <td id=\"T_4e275b54_c331_11e8_97bb_c8d3ff3ccad2row5_col3\" class=\"data row5 col3\" >Efectuar a gestão da manutenção de equipamentos e sistemas de automação, instrumentação,Robótica e controlo industrial.\n",
       "Áreas de electricidade/electrónica industrial automação e controlo:\n",
       "Efectuar a manutenção e a reparação dos equipamentos das áreas de Automação, Robótica e\n",
       "Técnico Especialista em Automação Robótica e Controlo Industrial\n",
       "Competências relacionadas com  trabalho</td> \n",
       "    </tr>    <tr> \n",
       "        <th id=\"T_4e275b54_c331_11e8_97bb_c8d3ff3ccad2level0_row6\" class=\"row_heading level0 row6\" >6</th> \n",
       "        <td id=\"T_4e275b54_c331_11e8_97bb_c8d3ff3ccad2row6_col0\" class=\"data row6 col0\" >Milton César Ferreira Leite</td> \n",
       "        <td id=\"T_4e275b54_c331_11e8_97bb_c8d3ff3ccad2row6_col1\" class=\"data row6 col1\" ><a target=\"_blank\" href=\"CV\\10-outubro 2016\\Milton César Ferreira Leite.pdf\">CV\\10-outubro 2016\\Milton César Ferreira Leite.pdf</a></td> \n",
       "        <td id=\"T_4e275b54_c331_11e8_97bb_c8d3ff3ccad2row6_col2\" class=\"data row6 col2\" >0.572343</td> \n",
       "        <td id=\"T_4e275b54_c331_11e8_97bb_c8d3ff3ccad2row6_col3\" class=\"data row6 col3\" >Liftech  Tecnologia para Elevadores, Lda, Maia (Portugal)\n",
       "Acompanhamento das empresas representantes dos equipamentos da Liftech (comandos para elevadores)em Inglaterra, Líbano, Moçambique, México e Hong Kong.\n",
       "Áreas cientifica de eletricidade, eletrónica, informática, automação industrial, gestão de produção e controlo de qualidade;\n",
       "Acompanhamento de toda a logística que acompanha a produção de comandos para elevadores.</td> \n",
       "    </tr>    <tr> \n",
       "        <th id=\"T_4e275b54_c331_11e8_97bb_c8d3ff3ccad2level0_row7\" class=\"row_heading level0 row7\" >7</th> \n",
       "        <td id=\"T_4e275b54_c331_11e8_97bb_c8d3ff3ccad2row7_col0\" class=\"data row7 col0\" >Carlos Miguel Borges Pinto</td> \n",
       "        <td id=\"T_4e275b54_c331_11e8_97bb_c8d3ff3ccad2row7_col1\" class=\"data row7 col1\" ><a target=\"_blank\" href=\"CV\\10-outubro 2016\\Carlos Miguel Borges Pinto.pdf\">CV\\10-outubro 2016\\Carlos Miguel Borges Pinto.pdf</a></td> \n",
       "        <td id=\"T_4e275b54_c331_11e8_97bb_c8d3ff3ccad2row7_col2\" class=\"data row7 col2\" >0.543385</td> \n",
       "        <td id=\"T_4e275b54_c331_11e8_97bb_c8d3ff3ccad2row7_col3\" class=\"data row7 col3\" >Projecto mecânico (Solidworks) para desenvolvimento da estrutura e simulação de esforços, e criação da maioria das peças da mesma;\n",
       "Reparação de Avarias   Responder às solicitações da produção, na resolução de avarias decorrentes do processo produtivo, de forma a garantir a eficácia das linhas ao nível de software de automação, mecânico, elétrico, pneumático e hidráulico;</td> \n",
       "    </tr>    <tr> \n",
       "        <th id=\"T_4e275b54_c331_11e8_97bb_c8d3ff3ccad2level0_row8\" class=\"row_heading level0 row8\" >8</th> \n",
       "        <td id=\"T_4e275b54_c331_11e8_97bb_c8d3ff3ccad2row8_col0\" class=\"data row8 col0\" >Manuel Alexandre de Sousa Teixeira</td> \n",
       "        <td id=\"T_4e275b54_c331_11e8_97bb_c8d3ff3ccad2row8_col1\" class=\"data row8 col1\" ><a target=\"_blank\" href=\"CV\\06-Junho 2016\\Manuel Alexandre de Sousa Teixeira.pdf\">CV\\06-Junho 2016\\Manuel Alexandre de Sousa Teixeira.pdf</a></td> \n",
       "        <td id=\"T_4e275b54_c331_11e8_97bb_c8d3ff3ccad2row8_col2\" class=\"data row8 col2\" >0.52054</td> \n",
       "        <td id=\"T_4e275b54_c331_11e8_97bb_c8d3ff3ccad2row8_col3\" class=\"data row8 col3\" >Funções  nas  áreas  de  projecto  e  instalação  de  sistemas  de  automação  industrial,  engenharia  do  software, planeamento e gestão da produção, redes de comunicação industriais e assistência pós venda nos projectos\n",
       "Experiência nas várias fases do Processo Produtivo e de Gestão de Projectos em sistemas críticos com elevada exigência de disponibilidade e segurança e experiência relevante na participação em projectos internacionais.</td> \n",
       "    </tr>    <tr> \n",
       "        <th id=\"T_4e275b54_c331_11e8_97bb_c8d3ff3ccad2level0_row9\" class=\"row_heading level0 row9\" >9</th> \n",
       "        <td id=\"T_4e275b54_c331_11e8_97bb_c8d3ff3ccad2row9_col0\" class=\"data row9 col0\" >Sérgio Filipe Maio da Cunha_12_2017</td> \n",
       "        <td id=\"T_4e275b54_c331_11e8_97bb_c8d3ff3ccad2row9_col1\" class=\"data row9 col1\" ><a target=\"_blank\" href=\"CV\\Dezembro 2017\\Sérgio Filipe Maio da Cunha_12_2017.pdf\">CV\\Dezembro 2017\\Sérgio Filipe Maio da Cunha_12_2017.pdf</a></td> \n",
       "        <td id=\"T_4e275b54_c331_11e8_97bb_c8d3ff3ccad2row9_col2\" class=\"data row9 col2\" >0.391394</td> \n",
       "        <td id=\"T_4e275b54_c331_11e8_97bb_c8d3ff3ccad2row9_col3\" class=\"data row9 col3\" >Facilidade de adaptação a diferentes línguas (espanhol e inglês), adquirida no percurso académico nomeadamente durante o projeto ERASMUS.\n",
       "Boa capacidade de trabalho de grupo adquirida através de experiência académica e profissional.\n",
       "Colocação em serviço do software e hardware de um sistema de automação;\n",
       "Programação PLC, aprendizagem obtida no Mestrado Integrado de Engenharia Mecânica do</td> \n",
       "    </tr>    <tr> \n",
       "        <th id=\"T_4e275b54_c331_11e8_97bb_c8d3ff3ccad2level0_row10\" class=\"row_heading level0 row10\" >10</th> \n",
       "        <td id=\"T_4e275b54_c331_11e8_97bb_c8d3ff3ccad2row10_col0\" class=\"data row10 col0\" >Óscar Lino Proença de Seabra</td> \n",
       "        <td id=\"T_4e275b54_c331_11e8_97bb_c8d3ff3ccad2row10_col1\" class=\"data row10 col1\" ><a target=\"_blank\" href=\"CV\\06-Junho 2016\\Óscar Lino Proença de Seabra.pdf\">CV\\06-Junho 2016\\Óscar Lino Proença de Seabra.pdf</a></td> \n",
       "        <td id=\"T_4e275b54_c331_11e8_97bb_c8d3ff3ccad2row10_col2\" class=\"data row10 col2\" >0.373966</td> \n",
       "        <td id=\"T_4e275b54_c331_11e8_97bb_c8d3ff3ccad2row10_col3\" class=\"data row10 col3\" >Acompanhamento e gestão de projectos e propostas relacionados com sistemas de automação, desde a fase de dimensionamento e proposta ao comissionamento em obra, passando pela fase de aprovisionamento de materiais e ensaios.\n",
       "2011/2012   Frequência do nível \"intermediate B2\" do curso de inglês individual promovido pela ATEC com duração de 100 horas tendo obtido a classificação de 80%</td> \n",
       "    </tr>    <tr> \n",
       "        <th id=\"T_4e275b54_c331_11e8_97bb_c8d3ff3ccad2level0_row11\" class=\"row_heading level0 row11\" >11</th> \n",
       "        <td id=\"T_4e275b54_c331_11e8_97bb_c8d3ff3ccad2row11_col0\" class=\"data row11 col0\" >Sérgio Filipe Maio da Cunha</td> \n",
       "        <td id=\"T_4e275b54_c331_11e8_97bb_c8d3ff3ccad2row11_col1\" class=\"data row11 col1\" ><a target=\"_blank\" href=\"CV\\10-outubro 2016\\Sérgio Filipe Maio da Cunha.pdf\">CV\\10-outubro 2016\\Sérgio Filipe Maio da Cunha.pdf</a></td> \n",
       "        <td id=\"T_4e275b54_c331_11e8_97bb_c8d3ff3ccad2row11_col2\" class=\"data row11 col2\" >0.361973</td> \n",
       "        <td id=\"T_4e275b54_c331_11e8_97bb_c8d3ff3ccad2row11_col3\" class=\"data row11 col3\" >Facilidade de adaptação a diferentes línguas (espanhol e inglês), adquirida no percurso académico nomeadamente durante o projeto ERASMUS.\n",
       "Boa capacidade de trabalho de grupo adquirida através de experiência académica e profissional.\n",
       "Soldadura de oxi acetileno ,aprendizagem obtida no curso de ajudante de maquinista;\n",
       "Programação PLC, aprendizagem obtida no Mestrado Integrado de Engenharia Mecânica do</td> \n",
       "    </tr>    <tr> \n",
       "        <th id=\"T_4e275b54_c331_11e8_97bb_c8d3ff3ccad2level0_row12\" class=\"row_heading level0 row12\" >12</th> \n",
       "        <td id=\"T_4e275b54_c331_11e8_97bb_c8d3ff3ccad2row12_col0\" class=\"data row12 col0\" >Sérgio Filipe Maio da Cunha</td> \n",
       "        <td id=\"T_4e275b54_c331_11e8_97bb_c8d3ff3ccad2row12_col1\" class=\"data row12 col1\" ><a target=\"_blank\" href=\"CV\\05-Maio 2016\\Sérgio Filipe Maio da Cunha.pdf\">CV\\05-Maio 2016\\Sérgio Filipe Maio da Cunha.pdf</a></td> \n",
       "        <td id=\"T_4e275b54_c331_11e8_97bb_c8d3ff3ccad2row12_col2\" class=\"data row12 col2\" >0.361973</td> \n",
       "        <td id=\"T_4e275b54_c331_11e8_97bb_c8d3ff3ccad2row12_col3\" class=\"data row12 col3\" >Facilidade de adaptação a diferentes línguas (espanhol e inglês), adquirida no percurso académico nomeadamente durante o projeto ERASMUS.\n",
       "Boa capacidade de trabalho de grupo adquirida através de experiência académica e profissional.\n",
       "Soldadura de oxi acetileno ,aprendizagem obtida no curso de ajudante de maquinista;\n",
       "Programação PLC, aprendizagem obtida no Mestrado Integrado de Engenharia Mecânica do</td> \n",
       "    </tr>    <tr> \n",
       "        <th id=\"T_4e275b54_c331_11e8_97bb_c8d3ff3ccad2level0_row13\" class=\"row_heading level0 row13\" >13</th> \n",
       "        <td id=\"T_4e275b54_c331_11e8_97bb_c8d3ff3ccad2row13_col0\" class=\"data row13 col0\" >Nuno Miguel Silva Mota</td> \n",
       "        <td id=\"T_4e275b54_c331_11e8_97bb_c8d3ff3ccad2row13_col1\" class=\"data row13 col1\" ><a target=\"_blank\" href=\"CV\\07-julho 2016\\Nuno Miguel Silva Mota.pdf\">CV\\07-julho 2016\\Nuno Miguel Silva Mota.pdf</a></td> \n",
       "        <td id=\"T_4e275b54_c331_11e8_97bb_c8d3ff3ccad2row13_col2\" class=\"data row13 col2\" >0.361728</td> \n",
       "        <td id=\"T_4e275b54_c331_11e8_97bb_c8d3ff3ccad2row13_col3\" class=\"data row13 col3\" >Apoio das equipas de manutenção da unidade fabril, na resolução de problemas essencialmente eléctricos.\n",
       "Coordenação e gestão das equipas de manutenção operacional da unidade fabril.\n",
       "Designação da qualificação atribuída  Mestrado Integrado em Engenharia Electrotécnica e de Computadores   Ramo Automação\n",
       "Apoio das equipas de manutenção nas manutenções curativas e/ou preventivas.</td> \n",
       "    </tr>    <tr> \n",
       "        <th id=\"T_4e275b54_c331_11e8_97bb_c8d3ff3ccad2level0_row14\" class=\"row_heading level0 row14\" >14</th> \n",
       "        <td id=\"T_4e275b54_c331_11e8_97bb_c8d3ff3ccad2row14_col0\" class=\"data row14 col0\" >Pedro Manuel Pinto_02_2017</td> \n",
       "        <td id=\"T_4e275b54_c331_11e8_97bb_c8d3ff3ccad2row14_col1\" class=\"data row14 col1\" ><a target=\"_blank\" href=\"CV\\Mecânica\\Pedro Manuel Pinto_02_2017.pdf\">CV\\Mecânica\\Pedro Manuel Pinto_02_2017.pdf</a></td> \n",
       "        <td id=\"T_4e275b54_c331_11e8_97bb_c8d3ff3ccad2row14_col2\" class=\"data row14 col2\" >0.359067</td> \n",
       "        <td id=\"T_4e275b54_c331_11e8_97bb_c8d3ff3ccad2row14_col3\" class=\"data row14 col3\" >Criação e analise de desenhos 2D de acordo com as especificações de cliente usando softwares\n",
       "01/10/2012 30/07/2013  Estágio Profissional em Engenharia Mecânica (Engenheiro Mecânico)\n",
       "Interacção com a YEL Wolfsburg CSC (Customer Service Center) a nível europeu no planeamento e gestão de prioridades para os projectos actuais da Volkswagen;\n",
       "Competências relacionadas com  trabalho</td> \n",
       "    </tr>    <tr> \n",
       "        <th id=\"T_4e275b54_c331_11e8_97bb_c8d3ff3ccad2level0_row15\" class=\"row_heading level0 row15\" >15</th> \n",
       "        <td id=\"T_4e275b54_c331_11e8_97bb_c8d3ff3ccad2row15_col0\" class=\"data row15 col0\" >Pedro Manuel Cardoso Pinto_01_2017</td> \n",
       "        <td id=\"T_4e275b54_c331_11e8_97bb_c8d3ff3ccad2row15_col1\" class=\"data row15 col1\" ><a target=\"_blank\" href=\"CV\\Mecânica\\Pedro Manuel Cardoso Pinto_01_2017.pdf\">CV\\Mecânica\\Pedro Manuel Cardoso Pinto_01_2017.pdf</a></td> \n",
       "        <td id=\"T_4e275b54_c331_11e8_97bb_c8d3ff3ccad2row15_col2\" class=\"data row15 col2\" >0.359067</td> \n",
       "        <td id=\"T_4e275b54_c331_11e8_97bb_c8d3ff3ccad2row15_col3\" class=\"data row15 col3\" >Criação e analise de desenhos 2D de acordo com as especificações de cliente usando softwares\n",
       "01/10/2012 30/07/2013  Estágio Profissional em Engenharia Mecânica (Engenheiro Mecânico)\n",
       "Interacção com a YEL Wolfsburg CSC (Customer Service Center) a nível europeu no planeamento e gestão de prioridades para os projectos actuais da Volkswagen;\n",
       "Competências relacionadas com  trabalho</td> \n",
       "    </tr>    <tr> \n",
       "        <th id=\"T_4e275b54_c331_11e8_97bb_c8d3ff3ccad2level0_row16\" class=\"row_heading level0 row16\" >16</th> \n",
       "        <td id=\"T_4e275b54_c331_11e8_97bb_c8d3ff3ccad2row16_col0\" class=\"data row16 col0\" >André Guedes Gorito dos Santos</td> \n",
       "        <td id=\"T_4e275b54_c331_11e8_97bb_c8d3ff3ccad2row16_col1\" class=\"data row16 col1\" ><a target=\"_blank\" href=\"CV\\06-Junho 2016\\André Guedes Gorito dos Santos.pdf\">CV\\06-Junho 2016\\André Guedes Gorito dos Santos.pdf</a></td> \n",
       "        <td id=\"T_4e275b54_c331_11e8_97bb_c8d3ff3ccad2row16_col2\" class=\"data row16 col2\" >0.353009</td> \n",
       "        <td id=\"T_4e275b54_c331_11e8_97bb_c8d3ff3ccad2row16_col3\" class=\"data row16 col3\" >Conhecimentos de linguagem de programação C;\n",
       "Conhecimentos de Software MatLab;\n",
       "2007   2009: Curso Profissional de Técnico de Gestão e Programação de Sistemas Informáticos na Escola Secundária António Nobre;\n",
       "Capacidade de iniciativa;\n",
       "Conhecimentos de Software Orcad;\n",
       "Conhecimentos de linguagem de programação Assembly;\n",
       "Conhecimentos de Software Office;\n",
       "Conhecimentos de Software WxMaxima;</td> \n",
       "    </tr>    <tr> \n",
       "        <th id=\"T_4e275b54_c331_11e8_97bb_c8d3ff3ccad2level0_row17\" class=\"row_heading level0 row17\" >17</th> \n",
       "        <td id=\"T_4e275b54_c331_11e8_97bb_c8d3ff3ccad2row17_col0\" class=\"data row17 col0\" >José Miguel Queirós Madureira_12-2017</td> \n",
       "        <td id=\"T_4e275b54_c331_11e8_97bb_c8d3ff3ccad2row17_col1\" class=\"data row17 col1\" ><a target=\"_blank\" href=\"CV\\Dezembro 2017\\José Miguel Queirós Madureira_12-2017.pdf\">CV\\Dezembro 2017\\José Miguel Queirós Madureira_12-2017.pdf</a></td> \n",
       "        <td id=\"T_4e275b54_c331_11e8_97bb_c8d3ff3ccad2row17_col2\" class=\"data row17 col2\" >0.331265</td> \n",
       "        <td id=\"T_4e275b54_c331_11e8_97bb_c8d3ff3ccad2row17_col3\" class=\"data row17 col3\" >Competências relacionadas com trabalho\n",
       "15/09/2017 Presente Mestrado em Engenharia Eletrotécnica e de Computadores\n",
       "15/09/2014 23/11/2017 Curso de engenharia electrotécnica e de computadores\n",
       "▪ Boa capacidade de organização.\n",
       "▪ Boa capacidade de comunicação adquirida através da participação num grupo de bombos.\n",
       "Competências de organização\n",
       "▪ Boa capacidade de trabalho de equipa.</td> \n",
       "    </tr>    <tr> \n",
       "        <th id=\"T_4e275b54_c331_11e8_97bb_c8d3ff3ccad2level0_row18\" class=\"row_heading level0 row18\" >18</th> \n",
       "        <td id=\"T_4e275b54_c331_11e8_97bb_c8d3ff3ccad2row18_col0\" class=\"data row18 col0\" >Mário Miguel Martins</td> \n",
       "        <td id=\"T_4e275b54_c331_11e8_97bb_c8d3ff3ccad2row18_col1\" class=\"data row18 col1\" ><a target=\"_blank\" href=\"CV\\9-setembro 2016\\Mário Miguel Martins.pdf\">CV\\9-setembro 2016\\Mário Miguel Martins.pdf</a></td> \n",
       "        <td id=\"T_4e275b54_c331_11e8_97bb_c8d3ff3ccad2row18_col2\" class=\"data row18 col2\" >0.308395</td> \n",
       "        <td id=\"T_4e275b54_c331_11e8_97bb_c8d3ff3ccad2row18_col3\" class=\"data row18 col3\" >Esta experiência permitiu, para além de uma evolução a nível técnico de Engenharia, adquirir variadas competências e potenciar outras já existentes, destacando se: o sentido de responsabilidade e trabalho de equipa para assegurar que os projetos fossem entregues a tempo e dentro do orçamento, utilizando em todos os momentos ferramentas de Gestão de</td> \n",
       "    </tr>    <tr> \n",
       "        <th id=\"T_4e275b54_c331_11e8_97bb_c8d3ff3ccad2level0_row19\" class=\"row_heading level0 row19\" >19</th> \n",
       "        <td id=\"T_4e275b54_c331_11e8_97bb_c8d3ff3ccad2row19_col0\" class=\"data row19 col0\" >Filipe Nunes_09-2017</td> \n",
       "        <td id=\"T_4e275b54_c331_11e8_97bb_c8d3ff3ccad2row19_col1\" class=\"data row19 col1\" ><a target=\"_blank\" href=\"CV\\Setembro 2017\\Filipe Nunes_09-2017.pdf\">CV\\Setembro 2017\\Filipe Nunes_09-2017.pdf</a></td> \n",
       "        <td id=\"T_4e275b54_c331_11e8_97bb_c8d3ff3ccad2row19_col2\" class=\"data row19 col2\" >0.307956</td> \n",
       "        <td id=\"T_4e275b54_c331_11e8_97bb_c8d3ff3ccad2row19_col3\" class=\"data row19 col3\" >As minhas habilitações preparam me de forma especial na área de projecto e dimensionamento de componentes mecânicos, bem como para a escolha de materiais, de processos de fabrico mais adequados e o desenho técnico dos componentes/máquinas.</td> \n",
       "    </tr></tbody> \n",
       "</table> "
      ],
      "text/plain": [
       "<pandas.io.formats.style.Styler at 0x17040506e10>"
      ]
     },
     "metadata": {},
     "output_type": "display_data"
    },
    {
     "name": "stdout",
     "output_type": "stream",
     "text": [
      "Wall time: 526 ms\n"
     ]
    }
   ],
   "source": [
    "%time results = j.run_search(['automação', 'porto'], num_returns=20, summary=True)"
   ]
  },
  {
   "cell_type": "code",
   "execution_count": null,
   "metadata": {},
   "outputs": [],
   "source": []
  }
 ],
 "metadata": {
  "kernelspec": {
   "display_name": "Python 3",
   "language": "python",
   "name": "python3"
  },
  "language_info": {
   "codemirror_mode": {
    "name": "ipython",
    "version": 3
   },
   "file_extension": ".py",
   "mimetype": "text/x-python",
   "name": "python",
   "nbconvert_exporter": "python",
   "pygments_lexer": "ipython3",
   "version": "3.6.5"
  }
 },
 "nbformat": 4,
 "nbformat_minor": 2
}
