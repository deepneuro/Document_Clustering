{
 "cells": [
  {
   "cell_type": "code",
   "execution_count": 1,
   "metadata": {},
   "outputs": [
    {
     "data": {
      "text/html": [
       "<script>requirejs.config({paths: { 'plotly': ['https://cdn.plot.ly/plotly-latest.min']},});if(!window.Plotly) {{require(['plotly'],function(plotly) {window.Plotly=plotly;});}}</script>"
      ],
      "text/vnd.plotly.v1+html": [
       "<script>requirejs.config({paths: { 'plotly': ['https://cdn.plot.ly/plotly-latest.min']},});if(!window.Plotly) {{require(['plotly'],function(plotly) {window.Plotly=plotly;});}}</script>"
      ]
     },
     "metadata": {},
     "output_type": "display_data"
    }
   ],
   "source": [
    "import elastic\n",
    "from elasticsearch import Elasticsearch\n",
    "import datetime\n",
    "import vibration\n",
    "import datetime\n",
    "import time\n",
    "import matplotlib.image as mpimg\n",
    "import numpy as np\n",
    "import matplotlib.patches as mpatches"
   ]
  },
  {
   "cell_type": "code",
   "execution_count": 2,
   "metadata": {},
   "outputs": [],
   "source": [
    "es = Elasticsearch(['192.168.20.32:9200'])\n",
    "index = 'vibrations2018'"
   ]
  },
  {
   "cell_type": "code",
   "execution_count": 3,
   "metadata": {},
   "outputs": [],
   "source": [
    "def query_elastic():\n",
    "    query_body = {\"sort\": {\n",
    "        \"datetime\": {\n",
    "            \"order\": \"asc\"\n",
    "        }\n",
    "    },\n",
    "         \"query\": {\n",
    "            \"range\": {\n",
    "                \"datetime\": {\n",
    "                    \"gte\": int(first_date),\n",
    "                    \"lt\": int(last_date)\n",
    "                }\n",
    "            }\n",
    "        }\n",
    "    }\n",
    "    number_hits = es.search(index=index,\n",
    "                            doc_type='txt',\n",
    "                            size=0,\n",
    "                            body=query_body)['hits']['total']\n",
    "    elastic_results = es.search(index=index,\n",
    "                                doc_type='txt',\n",
    "                                size=10000,\n",
    "                                body=query_body)\n",
    "    return elastic_results"
   ]
  },
  {
   "cell_type": "code",
   "execution_count": 4,
   "metadata": {
    "scrolled": false
   },
   "outputs": [],
   "source": [
    "def get_results(elastic_results, component):\n",
    "    result_list = list()\n",
    "    for i in results['hits']['hits']:\n",
    "        result_list.append(i['_source'][component])\n",
    "    return result_list"
   ]
  },
  {
   "cell_type": "code",
   "execution_count": 5,
   "metadata": {},
   "outputs": [],
   "source": [
    "from IPython.display import clear_output\n",
    "from matplotlib import pyplot as plt\n",
    "import collections\n",
    "%matplotlib inline\n",
    "\n",
    "def live_plot_rms(data_dict, figsize=(15,10), title=''):\n",
    "    clear_output(wait=True)\n",
    "    plt.figure(figsize=figsize)\n",
    "    plt.plot(data_dict['x'], data_dict['data'], label='rms')\n",
    "    plt.title(title)\n",
    "    plt.grid(True)\n",
    "    plt.xlabel('Time')\n",
    "    plt.ylabel('Amplitude (mm/s)')\n",
    "    plt.axis()\n",
    "    plt.legend(loc='center left') # the plot evolves to the right\n",
    "    plt.show();"
   ]
  },
  {
   "cell_type": "code",
   "execution_count": 6,
   "metadata": {},
   "outputs": [],
   "source": [
    "def live_plot_fft(data_dict, figsize=(15,10), title='FFT'):\n",
    "    clear_output(wait=True)\n",
    "    plt.figure(figsize=figsize)\n",
    "    plt.plot(data_dict['x'], data_dict['data'], label='fft')\n",
    "    plt.title(title)\n",
    "    plt.grid(True)\n",
    "    plt.xlabel('frequency (Hz)')\n",
    "    plt.ylabel('Amplitude (mm)')\n",
    "    plt.xlim((50, 1000))\n",
    "    plt.legend(loc='center left') # the plot evolves to the right\n",
    "    plt.show();"
   ]
  },
  {
   "cell_type": "code",
   "execution_count": null,
   "metadata": {},
   "outputs": [],
   "source": [
    "plot_list = list()\n",
    "x_axis_list = list()\n",
    "plot_data = dict()\n",
    "\n",
    "while True:\n",
    "    start = time.time()\n",
    "    now = datetime.datetime.now() - datetime.timedelta(seconds=2)\n",
    "    before = now - datetime.timedelta(seconds=1)\n",
    "    last_date = datetime.datetime.strftime(now, '%y%m%d%H%M%S')\n",
    "    first_date = datetime.datetime.strftime(before, '%y%m%d%H%M%S')\n",
    "    results = query_elastic()\n",
    "    result_list = get_results(results, 'X')\n",
    "    \n",
    "    if len(plot_list) <= 20:\n",
    "        if len(result_list)!=0:\n",
    "            plot_list += result_list\n",
    "            if len(x_axis_list) == 0:\n",
    "                x_axis_list += [1]\n",
    "            else:\n",
    "                x_axis_list += [x_axis_list[-1]+1]\n",
    "    else:\n",
    "        if len(result_list)!=0:\n",
    "            plot_list = plot_list[1:] + result_list\n",
    "            x_axis_list = x_axis_list[1:] + [x_axis_list[-1]+1]\n",
    "    plot_data['data'] = plot_list\n",
    "    plot_data['x'] = x_axis_list\n",
    "    live_plot_rms(plot_data)\n",
    "    time.sleep(1-(time.time()-start))"
   ]
  },
  {
   "cell_type": "code",
   "execution_count": 12,
   "metadata": {
    "scrolled": false
   },
   "outputs": [
    {
     "data": {
      "image/png": "[encoded data removed]",
      "text/plain": [
       "<Figure size 1080x720 with 1 Axes>"
      ]
     },
     "metadata": {},
     "output_type": "display_data"
    },
    {
     "ename": "KeyboardInterrupt",
     "evalue": "",
     "output_type": "error",
     "traceback": [
      "\u001b[1;31m---------------------------------------------------------------------------\u001b[0m",
      "\u001b[1;31mKeyboardInterrupt\u001b[0m                         Traceback (most recent call last)",
      "\u001b[1;32m<ipython-input-12-6abb299d08c5>\u001b[0m in \u001b[0;36m<module>\u001b[1;34m()\u001b[0m\n\u001b[0;32m     19\u001b[0m \u001b[1;33m\u001b[0m\u001b[0m\n\u001b[0;32m     20\u001b[0m         \u001b[0mlive_plot_fft\u001b[0m\u001b[1;33m(\u001b[0m\u001b[0mplot_data\u001b[0m\u001b[1;33m)\u001b[0m\u001b[1;33m\u001b[0m\u001b[0m\n\u001b[1;32m---> 21\u001b[1;33m         \u001b[0mtime\u001b[0m\u001b[1;33m.\u001b[0m\u001b[0msleep\u001b[0m\u001b[1;33m(\u001b[0m\u001b[1;36m1\u001b[0m\u001b[1;33m-\u001b[0m\u001b[1;33m(\u001b[0m\u001b[0mtime\u001b[0m\u001b[1;33m.\u001b[0m\u001b[0mtime\u001b[0m\u001b[1;33m(\u001b[0m\u001b[1;33m)\u001b[0m\u001b[1;33m-\u001b[0m\u001b[0mstart\u001b[0m\u001b[1;33m)\u001b[0m\u001b[1;33m)\u001b[0m\u001b[1;33m\u001b[0m\u001b[0m\n\u001b[0m\u001b[0;32m     22\u001b[0m \u001b[1;33m\u001b[0m\u001b[0m\n",
      "\u001b[1;31mKeyboardInterrupt\u001b[0m: "
     ]
    }
   ],
   "source": [
    "plot_list = list()\n",
    "x_axis_list = list()\n",
    "plot_data = dict()\n",
    "\n",
    "while True:\n",
    "    start = time.time()\n",
    "    now = datetime.datetime.strptime('181122112647','%y%m%d%H%M%S' )\n",
    "    before = now - datetime.timedelta(seconds=2)\n",
    "    last_date = datetime.datetime.strftime(now, '%y%m%d%H%M%S')\n",
    "    first_date = datetime.datetime.strftime(before, '%y%m%d%H%M%S')\n",
    "    results = query_elastic()\n",
    "    result_list = get_results(results, 'Z')\n",
    "    if result_list ==[]:\n",
    "        pass\n",
    "    else:\n",
    "        plot_data['data'] = result_list[0][0][50:]\n",
    "\n",
    "        plot_data['x'] = [i for i in range(len(result_list[0][0][50:]))]\n",
    "\n",
    "        live_plot_fft(plot_data)\n",
    "        time.sleep(1-(time.time()-start))\n",
    "    "
   ]
  },
  {
   "cell_type": "code",
   "execution_count": 91,
   "metadata": {
    "scrolled": false
   },
   "outputs": [
    {
     "data": {
      "text/plain": [
       "(array([0. , 0.5, 1. , 1.5, 2. , 2.5, 3. , 3.5, 4. ]),\n",
       " <a list of 9 Text yticklabel objects>)"
      ]
     },
     "execution_count": 91,
     "metadata": {},
     "output_type": "execute_result"
    },
    {
     "data": {
      "image/png": "[encoded data removed]",
      "text/plain": [
       "<Figure size 1440x1080 with 1 Axes>"
      ]
     },
     "metadata": {},
     "output_type": "display_data"
    }
   ],
   "source": [
    "img = mpimg.imread(r'vibrationfft.png')\n",
    "x = plt.figure(figsize=(20,15))\n",
    "#imgplot = plt.imshow(img)\n",
    "new_x = (937*np.array(plot_data['x'])/2450)#+76\n",
    "new_y = (np.array(plot_data['data'])*1600)#+638*516/4\n",
    "black_patch = mpatches.Patch(color='black', label='baseline')\n",
    "blue_patch = mpatches.Patch(color='blue', label='fft')\n",
    "data_ploted, = plt.plot(new_x,new_y, linewidth=5, label='fft')\n",
    "plt.legend(handles=[blue_patch], fontsize='xx-large', loc=(0.84,1-0.155))\n",
    "#plt.axis('off')\n",
    "plt.grid()\n",
    "plt.ylim(0,4)\n",
    "plt.xlabel('Frequency(Hz)', fontsize=18)\n",
    "plt.ylabel('Amplitude(mm/s)', fontsize=18)\n",
    "plt.xticks(fontsize=18, rotation=0)\n",
    "plt.yticks(fontsize=18, rotation=0)"
   ]
  },
  {
   "cell_type": "code",
   "execution_count": 55,
   "metadata": {},
   "outputs": [
    {
     "data": {
      "text/plain": [
       "[<matplotlib.lines.Line2D at 0x17e5db00860>]"
      ]
     },
     "execution_count": 55,
     "metadata": {},
     "output_type": "execute_result"
    },
    {
     "data": {
      "image/png": "[encoded data removed]",
      "text/plain": [
       "<Figure size 432x288 with 1 Axes>"
      ]
     },
     "metadata": {},
     "output_type": "display_data"
    }
   ],
   "source": [
    "plt.plot(plot_data['x'], np.array(plot_data['data']))"
   ]
  },
  {
   "cell_type": "code",
   "execution_count": null,
   "metadata": {},
   "outputs": [],
   "source": [
    "now = datetime.datetime.now() - datetime.timedelta(seconds=2)"
   ]
  },
  {
   "cell_type": "code",
   "execution_count": null,
   "metadata": {},
   "outputs": [],
   "source": [
    "result_list"
   ]
  },
  {
   "cell_type": "code",
   "execution_count": null,
   "metadata": {},
   "outputs": [],
   "source": [
    "result_list"
   ]
  },
  {
   "cell_type": "code",
   "execution_count": 34,
   "metadata": {},
   "outputs": [],
   "source": []
  },
  {
   "cell_type": "code",
   "execution_count": null,
   "metadata": {},
   "outputs": [],
   "source": [
    "from scipy import fftpack"
   ]
  },
  {
   "cell_type": "code",
   "execution_count": null,
   "metadata": {},
   "outputs": [],
   "source": [
    "import numpy as np"
   ]
  },
  {
   "cell_type": "code",
   "execution_count": null,
   "metadata": {},
   "outputs": [],
   "source": [
    "new_stream = vibration.StreamGraph('vibrations', 2)"
   ]
  },
  {
   "cell_type": "code",
   "execution_count": null,
   "metadata": {},
   "outputs": [],
   "source": [
    "es = Elasticsearch(['192.168.20.32:9200'])"
   ]
  },
  {
   "cell_type": "code",
   "execution_count": null,
   "metadata": {},
   "outputs": [],
   "source": [
    "    def query_elastic(self):\n",
    "        query_body = {\"sort\": {\n",
    "            \"sensor_1.date\": {\n",
    "                \"order\": \"asc\"\n",
    "            }\n",
    "\n",
    "                    }\n",
    "                }\n",
    "        self.elastic_results = es.search(index=self.index,\n",
    "                                    doc_type='txt',\n",
    "                                    size=100,\n",
    "                                    body=query_body)\n",
    "        return self.elastic_results"
   ]
  },
  {
   "cell_type": "code",
   "execution_count": null,
   "metadata": {},
   "outputs": [],
   "source": [
    "new_stream.query_elastic = query_elastic"
   ]
  },
  {
   "cell_type": "code",
   "execution_count": null,
   "metadata": {},
   "outputs": [],
   "source": [
    "query = new_stream.query_elastic(new_stream)"
   ]
  },
  {
   "cell_type": "code",
   "execution_count": 108,
   "metadata": {},
   "outputs": [],
   "source": [
    "x = fftpack.fft(query['hits']['hits'][0]['_source']['sensor_1']['data'][0]['X'])"
   ]
  },
  {
   "cell_type": "code",
   "execution_count": 109,
   "metadata": {},
   "outputs": [
    {
     "data": {
      "text/plain": [
       "array([ 7.62533411e+06+0.j        ,  1.79017041e-01-0.03204192j,\n",
       "       -7.33669330e-02+0.02623544j, ..., -8.77566579e-02+0.00539096j,\n",
       "       -7.33669330e-02-0.02623544j,  1.79017041e-01+0.03204192j])"
      ]
     },
     "execution_count": 109,
     "metadata": {},
     "output_type": "execute_result"
    }
   ],
   "source": [
    "x"
   ]
  },
  {
   "cell_type": "code",
   "execution_count": 117,
   "metadata": {},
   "outputs": [],
   "source": [
    "y_plot = 2.0/N * np.abs(x[0:N//2])"
   ]
  },
  {
   "cell_type": "code",
   "execution_count": 118,
   "metadata": {},
   "outputs": [],
   "source": [
    "N = len(query['hits']['hits'][0]['_source']['sensor_1']['data'][0]['X'])"
   ]
  },
  {
   "cell_type": "code",
   "execution_count": 119,
   "metadata": {},
   "outputs": [],
   "source": [
    "from matplotlib import pyplot as plt"
   ]
  },
  {
   "cell_type": "code",
   "execution_count": 120,
   "metadata": {},
   "outputs": [],
   "source": [
    "x_plot = np.linspace(0.0, 5000, N//2)"
   ]
  },
  {
   "cell_type": "code",
   "execution_count": 121,
   "metadata": {},
   "outputs": [
    {
     "data": {
      "text/plain": [
       "[<matplotlib.lines.Line2D at 0x1eba9f02be0>]"
      ]
     },
     "execution_count": 121,
     "metadata": {},
     "output_type": "execute_result"
    },
    {
     "data": {
      "image/png": "[encoded data removed]",
      "text/plain": [
       "<Figure size 432x288 with 1 Axes>"
      ]
     },
     "metadata": {},
     "output_type": "display_data"
    }
   ],
   "source": [
    "plt.plot(x_plot[1:], y_plot[1:])"
   ]
  },
  {
   "cell_type": "code",
   "execution_count": 95,
   "metadata": {},
   "outputs": [
    {
     "data": {
      "text/plain": [
       "array([0.00000000e+00, 2.00080032e+00, 4.00160064e+00, ...,\n",
       "       4.99599840e+03, 4.99799920e+03, 5.00000000e+03])"
      ]
     },
     "execution_count": 95,
     "metadata": {},
     "output_type": "execute_result"
    }
   ],
   "source": [
    "x_plot"
   ]
  },
  {
   "cell_type": "code",
   "execution_count": 96,
   "metadata": {},
   "outputs": [
    {
     "data": {
      "text/plain": [
       "array([3.05013364e+03, 7.27447980e-05, 3.11666616e-05, ...,\n",
       "       4.95300836e-05, 5.03836046e-05, 5.05637931e-05])"
      ]
     },
     "execution_count": 96,
     "metadata": {},
     "output_type": "execute_result"
    }
   ],
   "source": [
    "y_plot"
   ]
  },
  {
   "cell_type": "code",
   "execution_count": 37,
   "metadata": {},
   "outputs": [],
   "source": [
    "es = Elasticsearch(['192.168.20.32:9200'])"
   ]
  },
  {
   "cell_type": "code",
   "execution_count": 123,
   "metadata": {},
   "outputs": [
    {
     "data": {
      "text/plain": [
       "{'acknowledged': True, 'shards_acknowledged': True, 'index': 'vibrations_fft'}"
      ]
     },
     "execution_count": 123,
     "metadata": {},
     "output_type": "execute_result"
    }
   ],
   "source": [
    "body = {\n",
    "        \"mappings\": {\n",
    "                     \"txt\": {\n",
    "                                                     \"properties\" : {\n",
    "                                                                     \"datetime\": { \n",
    "                                                                              \"type\": \"date\",\n",
    "                                                                             }\n",
    "                                                                    }\n",
    "                                                    }\n",
    "                                           }\n",
    "\n",
    "es.indices.create(index='vibrations_fft', ignore=400, body=body)"
   ]
  },
  {
   "cell_type": "code",
   "execution_count": 40,
   "metadata": {},
   "outputs": [],
   "source": [
    "\n",
    "body = {\n",
    "        \"mappings\": {\n",
    "                     \"txt\": {\n",
    "                                                     \"properties\" : {\n",
    "                                                                     \"datetime\": { \n",
    "                                                                              \"type\": \"date\",\n",
    "                                                                             }\n",
    "                                                                    }\n",
    "                                                    }\n",
    "                                           }\n",
    "}\n",
    "for indice in ['vibrations_testing', 'vibrations_fft']:\n",
    "    es.indices.delete(index=indice)\n",
    "    es.indices.create(index=indice, ignore=400, body=body)"
   ]
  },
  {
   "cell_type": "code",
   "execution_count": 41,
   "metadata": {},
   "outputs": [
    {
     "data": {
      "text/plain": [
       "2450"
      ]
     },
     "execution_count": 41,
     "metadata": {},
     "output_type": "execute_result"
    }
   ],
   "source": [
    "len(plot_data['x'])"
   ]
  },
  {
   "cell_type": "code",
   "execution_count": null,
   "metadata": {},
   "outputs": [],
   "source": []
  },
  {
   "cell_type": "code",
   "execution_count": null,
   "metadata": {},
   "outputs": [],
   "source": []
  },
  {
   "cell_type": "code",
   "execution_count": null,
   "metadata": {},
   "outputs": [],
   "source": []
  },
  {
   "cell_type": "code",
   "execution_count": null,
   "metadata": {},
   "outputs": [],
   "source": []
  }
 ],
 "metadata": {
  "kernelspec": {
   "display_name": "Python 3",
   "language": "python",
   "name": "python3"
  },
  "language_info": {
   "codemirror_mode": {
    "name": "ipython",
    "version": 3
   },
   "file_extension": ".py",
   "mimetype": "text/x-python",
   "name": "python",
   "nbconvert_exporter": "python",
   "pygments_lexer": "ipython3",
   "version": "3.6.5"
  }
 },
 "nbformat": 4,
 "nbformat_minor": 2
}
